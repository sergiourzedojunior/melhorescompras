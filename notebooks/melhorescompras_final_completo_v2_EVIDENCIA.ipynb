{
 "cells": [
  {
   "cell_type": "markdown",
   "id": "48fc0879",
   "metadata": {},
   "source": [
    "# 📌 Passo 1 - Importando bibliotecas necessárias\n"
   ]
  },
  {
   "cell_type": "code",
   "execution_count": 4,
   "id": "df29b0e7",
   "metadata": {},
   "outputs": [
    {
     "name": "stdout",
     "output_type": "stream",
     "text": [
      "✅ Conexão com SQLite estabelecida.\n"
     ]
    }
   ],
   "source": [
    "# Conectar ao banco de dados SQLite\n",
    "import sqlite3\n",
    "\n",
    "conn = sqlite3.connect('melhores_compras.db')\n",
    "cursor = conn.cursor()\n",
    "\n",
    "print(\"✅ Conexão com SQLite estabelecida.\")\n"
   ]
  },
  {
   "cell_type": "markdown",
   "id": "160c4ec4",
   "metadata": {},
   "source": [
    "# 📌 Passo 2 - Remover tabelas se existirem (Drop Tables)"
   ]
  },
  {
   "cell_type": "code",
   "execution_count": 5,
   "id": "8a0a089f",
   "metadata": {},
   "outputs": [
    {
     "name": "stdout",
     "output_type": "stream",
     "text": [
      "✅ Tabelas existentes removidas com sucesso.\n"
     ]
    }
   ],
   "source": [
    "import sqlite3\n",
    "import time\n",
    "\n",
    "# Conectar ao banco de dados\n",
    "conn = sqlite3.connect(\"melhores_compras.db\")\n",
    "cursor = conn.cursor()\n",
    "\n",
    "# Lista de comandos DROP TABLE adaptados para SQLite\n",
    "drop_tables_sql = [\n",
    "    \"DROP TABLE IF EXISTS visualizacao_video;\",\n",
    "    \"DROP TABLE IF EXISTS sac;\",\n",
    "    \"DROP TABLE IF EXISTS video_produto;\",\n",
    "    \"DROP TABLE IF EXISTS cliente;\",\n",
    "    \"DROP TABLE IF EXISTS funcionario;\",\n",
    "    \"DROP TABLE IF EXISTS produto;\"\n",
    "]\n",
    "\n",
    "# Executar comandos DROP TABLE com tentativa de desbloqueio\n",
    "for drop_query in drop_tables_sql:\n",
    "    retry = True\n",
    "    while retry:\n",
    "        try:\n",
    "            cursor.execute(drop_query)\n",
    "            conn.commit()\n",
    "            retry = False\n",
    "        except sqlite3.OperationalError as e:\n",
    "            if \"database is locked\" in str(e).lower():\n",
    "                print(f\"Aguardando liberação do banco para: {drop_query}\")\n",
    "                time.sleep(1)\n",
    "            else:\n",
    "                raise e\n",
    "\n",
    "print(\"✅ Tabelas existentes removidas com sucesso.\")\n",
    "\n"
   ]
  },
  {
   "cell_type": "markdown",
   "id": "bca0aef1",
   "metadata": {},
   "source": [
    "# 📌 Passo 3 - Confirmar remoção das tabelas\n"
   ]
  },
  {
   "cell_type": "code",
   "execution_count": 6,
   "id": "37c3cbbd",
   "metadata": {},
   "outputs": [
    {
     "name": "stdout",
     "output_type": "stream",
     "text": [
      "⚠️ Atenção: Ainda há tabelas existentes:\n",
      "[('sqlite_sequence',)]\n"
     ]
    }
   ],
   "source": [
    "# Verificando se as tabelas foram removidas corretamente\n",
    "cursor.execute(\"SELECT name FROM sqlite_master WHERE type='table';\")\n",
    "tabelas = cursor.fetchall()\n",
    "\n",
    "if tabelas:\n",
    "    print(\"⚠️ Atenção: Ainda há tabelas existentes:\")\n",
    "    print(tabelas)\n",
    "else:\n",
    "    print(\"✅ Nenhuma tabela existente encontrada. Ambiente limpo.\")\n"
   ]
  },
  {
   "cell_type": "markdown",
   "id": "b317b5df",
   "metadata": {},
   "source": [
    "# 📌 Passo 4 - Fechando conexão SQLite"
   ]
  },
  {
   "cell_type": "code",
   "execution_count": 7,
   "id": "f2098464",
   "metadata": {},
   "outputs": [
    {
     "name": "stdout",
     "output_type": "stream",
     "text": [
      "✅ Conexão com SQLite fechada.\n"
     ]
    }
   ],
   "source": [
    "# Fechar a conexão\n",
    "conn.close()\n",
    "\n",
    "print(\"✅ Conexão com SQLite fechada.\")\n"
   ]
  },
  {
   "cell_type": "markdown",
   "id": "9f8192ad",
   "metadata": {},
   "source": [
    "# 📌 Criando a tabela `produto`\n"
   ]
  },
  {
   "cell_type": "code",
   "execution_count": 8,
   "id": "4691ec9c",
   "metadata": {},
   "outputs": [
    {
     "name": "stdout",
     "output_type": "stream",
     "text": [
      "✅ Tabela produto criada com sucesso.\n"
     ]
    }
   ],
   "source": [
    "import sqlite3\n",
    "\n",
    "# Reconectando ao SQLite\n",
    "conn = sqlite3.connect('melhores_compras.db')\n",
    "cursor = conn.cursor()\n",
    "\n",
    "# Criando tabela produto\n",
    "cursor.execute('''\n",
    "CREATE TABLE IF NOT EXISTS produto (\n",
    "    id_produto INTEGER PRIMARY KEY AUTOINCREMENT,\n",
    "    nome TEXT NOT NULL,\n",
    "    descricao TEXT,\n",
    "    preco REAL,\n",
    "    data_cadastro TIMESTAMP DEFAULT CURRENT_TIMESTAMP\n",
    ")\n",
    "''')\n",
    "\n",
    "conn.commit()\n",
    "print(\"✅ Tabela produto criada com sucesso.\")\n"
   ]
  },
  {
   "cell_type": "markdown",
   "id": "d37fe0fa",
   "metadata": {},
   "source": [
    "# 📌 Criando a tabela `cliente`\n"
   ]
  },
  {
   "cell_type": "code",
   "execution_count": 9,
   "id": "b949ddac",
   "metadata": {},
   "outputs": [
    {
     "name": "stdout",
     "output_type": "stream",
     "text": [
      "✅ Tabela cliente criada com sucesso.\n"
     ]
    }
   ],
   "source": [
    "cursor.execute('''\n",
    "CREATE TABLE IF NOT EXISTS cliente (\n",
    "    id_cliente INTEGER PRIMARY KEY AUTOINCREMENT,\n",
    "    nome TEXT NOT NULL,\n",
    "    email TEXT UNIQUE,\n",
    "    telefone TEXT,\n",
    "    data_cadastro TIMESTAMP DEFAULT CURRENT_TIMESTAMP\n",
    ")\n",
    "''')\n",
    "\n",
    "conn.commit()\n",
    "print(\"✅ Tabela cliente criada com sucesso.\")\n"
   ]
  },
  {
   "cell_type": "code",
   "execution_count": 10,
   "id": "d1216bb3",
   "metadata": {},
   "outputs": [
    {
     "name": "stdout",
     "output_type": "stream",
     "text": [
      "[('sqlite_sequence',), ('produto',), ('cliente',)]\n"
     ]
    }
   ],
   "source": [
    "cursor.execute(\"SELECT name FROM sqlite_master WHERE type='table';\")\n",
    "print(cursor.fetchall())\n"
   ]
  },
  {
   "cell_type": "markdown",
   "id": "894967ad",
   "metadata": {},
   "source": [
    "# 📌 Criando a tabela `video_produto`\n"
   ]
  },
  {
   "cell_type": "code",
   "execution_count": 11,
   "id": "ce5b31dc",
   "metadata": {},
   "outputs": [
    {
     "name": "stdout",
     "output_type": "stream",
     "text": [
      "✅ Tabela video_produto criada com sucesso.\n"
     ]
    }
   ],
   "source": [
    "cursor.execute('''\n",
    "CREATE TABLE IF NOT EXISTS video_produto (\n",
    "    id_video INTEGER PRIMARY KEY AUTOINCREMENT,\n",
    "    id_produto INTEGER NOT NULL,\n",
    "    url_video TEXT NOT NULL,\n",
    "    descricao TEXT,\n",
    "    status TEXT CHECK(status IN ('A','I')) DEFAULT 'A',\n",
    "    data_cadastro TIMESTAMP DEFAULT CURRENT_TIMESTAMP,\n",
    "    FOREIGN KEY (id_produto) REFERENCES produto(id_produto) ON DELETE CASCADE\n",
    ")\n",
    "''')\n",
    "\n",
    "conn.commit()\n",
    "print(\"✅ Tabela video_produto criada com sucesso.\")\n"
   ]
  },
  {
   "cell_type": "markdown",
   "id": "904c712f",
   "metadata": {},
   "source": [
    "# 📌 Criando a tabela `funcionario`\n"
   ]
  },
  {
   "cell_type": "code",
   "execution_count": 12,
   "id": "c86b7937",
   "metadata": {},
   "outputs": [
    {
     "name": "stdout",
     "output_type": "stream",
     "text": [
      "✅ Tabela funcionario criada com sucesso.\n"
     ]
    }
   ],
   "source": [
    "cursor.execute('''\n",
    "CREATE TABLE IF NOT EXISTS funcionario (\n",
    "    id_funcionario INTEGER PRIMARY KEY AUTOINCREMENT,\n",
    "    nome TEXT NOT NULL,\n",
    "    cpf TEXT NOT NULL UNIQUE,\n",
    "    data_nascimento DATE NOT NULL,\n",
    "    telefone TEXT NOT NULL,\n",
    "    email TEXT NOT NULL,\n",
    "    cargo TEXT NOT NULL,\n",
    "    departamento TEXT NOT NULL\n",
    ")\n",
    "''')\n",
    "\n",
    "conn.commit()\n",
    "print(\"✅ Tabela funcionario criada com sucesso.\")\n"
   ]
  },
  {
   "cell_type": "markdown",
   "id": "01c06b21",
   "metadata": {},
   "source": [
    "# 📌 Criando a tabela `visualizacao_video`\n"
   ]
  },
  {
   "cell_type": "code",
   "execution_count": 13,
   "id": "df4c6759",
   "metadata": {},
   "outputs": [
    {
     "name": "stdout",
     "output_type": "stream",
     "text": [
      "✅ Tabela visualizacao_video criada com sucesso.\n"
     ]
    }
   ],
   "source": [
    "cursor.execute('''\n",
    "CREATE TABLE IF NOT EXISTS visualizacao_video (\n",
    "    id_visualizacao INTEGER PRIMARY KEY AUTOINCREMENT,\n",
    "    id_video INTEGER NOT NULL,\n",
    "    id_cliente INTEGER,\n",
    "    data_hora_visualizacao TIMESTAMP DEFAULT CURRENT_TIMESTAMP,\n",
    "    FOREIGN KEY (id_video) REFERENCES video_produto(id_video) ON DELETE CASCADE,\n",
    "    FOREIGN KEY (id_cliente) REFERENCES cliente(id_cliente) ON DELETE SET NULL\n",
    ")\n",
    "''')\n",
    "\n",
    "conn.commit()\n",
    "print(\"✅ Tabela visualizacao_video criada com sucesso.\")\n"
   ]
  },
  {
   "cell_type": "markdown",
   "id": "b130df67",
   "metadata": {},
   "source": [
    "# 📌 Criando a tabela `sac` (Serviço de Atendimento ao Cliente)\n"
   ]
  },
  {
   "cell_type": "code",
   "execution_count": 14,
   "id": "25863287",
   "metadata": {},
   "outputs": [
    {
     "name": "stdout",
     "output_type": "stream",
     "text": [
      "✅ Tabela sac criada com sucesso.\n"
     ]
    }
   ],
   "source": [
    "cursor.execute('''\n",
    "CREATE TABLE IF NOT EXISTS sac (\n",
    "    id_sac INTEGER PRIMARY KEY AUTOINCREMENT,\n",
    "    id_cliente INTEGER NOT NULL,\n",
    "    id_produto INTEGER NOT NULL,\n",
    "    id_funcionario INTEGER NOT NULL,\n",
    "    data_hora_abertura TIMESTAMP NOT NULL DEFAULT CURRENT_TIMESTAMP,\n",
    "    data_hora_atendimento TIMESTAMP,\n",
    "    tempo_total_atendimento INTEGER,\n",
    "    status_chamado TEXT NOT NULL CHECK (status_chamado IN ('A','E','C','F','X')),\n",
    "    tipo_chamado TEXT NOT NULL CHECK (tipo_chamado IN ('1','2')),\n",
    "    indice_satisfacao INTEGER CHECK (indice_satisfacao BETWEEN 1 AND 100),\n",
    "    descricao_chamado TEXT NOT NULL,\n",
    "    FOREIGN KEY (id_cliente) REFERENCES cliente(id_cliente) ON DELETE CASCADE,\n",
    "    FOREIGN KEY (id_produto) REFERENCES produto(id_produto) ON DELETE CASCADE,\n",
    "    FOREIGN KEY (id_funcionario) REFERENCES funcionario(id_funcionario) ON DELETE CASCADE\n",
    ")\n",
    "''')\n",
    "\n",
    "conn.commit()\n",
    "print(\"✅ Tabela sac criada com sucesso.\")\n"
   ]
  },
  {
   "cell_type": "markdown",
   "id": "f5682ad7",
   "metadata": {},
   "source": [
    "# 📌 Conferindo tabelas criadas no banco SQLite\n"
   ]
  },
  {
   "cell_type": "code",
   "execution_count": 15,
   "id": "d8b6c7e0",
   "metadata": {},
   "outputs": [
    {
     "name": "stdout",
     "output_type": "stream",
     "text": [
      "✅ Tabelas criadas com sucesso no banco SQLite:\n",
      "sqlite_sequence\n",
      "produto\n",
      "cliente\n",
      "video_produto\n",
      "funcionario\n",
      "visualizacao_video\n",
      "sac\n"
     ]
    }
   ],
   "source": [
    "cursor.execute(\"SELECT name FROM sqlite_master WHERE type='table';\")\n",
    "tabelas_criadas = cursor.fetchall()\n",
    "\n",
    "print(\"✅ Tabelas criadas com sucesso no banco SQLite:\")\n",
    "for tabela in tabelas_criadas:\n",
    "    print(tabela[0])\n"
   ]
  },
  {
   "cell_type": "markdown",
   "id": "3e05d13a",
   "metadata": {},
   "source": [
    "# 📌 Fechando conexão com o SQLite\n"
   ]
  },
  {
   "cell_type": "code",
   "execution_count": 16,
   "id": "b72f7b62",
   "metadata": {},
   "outputs": [
    {
     "name": "stdout",
     "output_type": "stream",
     "text": [
      "✅ Conexão com SQLite fechada com sucesso.\n"
     ]
    }
   ],
   "source": [
    "# Fechar a conexão SQLite\n",
    "conn.close()\n",
    "print(\"✅ Conexão com SQLite fechada com sucesso.\")\n"
   ]
  },
  {
   "cell_type": "markdown",
   "id": "0ac24041",
   "metadata": {},
   "source": [
    "## 📌 Desafio 1: Inserindo produtos na tabela `produto`"
   ]
  },
  {
   "cell_type": "code",
   "execution_count": 17,
   "id": "1ee7b519",
   "metadata": {},
   "outputs": [
    {
     "name": "stdout",
     "output_type": "stream",
     "text": [
      "✅ Produtos inseridos com sucesso.\n"
     ]
    }
   ],
   "source": [
    "import sqlite3\n",
    "\n",
    "# Reconectando ao banco SQLite\n",
    "conn = sqlite3.connect('melhores_compras.db')\n",
    "cursor = conn.cursor()\n",
    "\n",
    "# Produtos para inserção (exemplos fictícios)\n",
    "produtos = [\n",
    "    ('Smartphone XYZ', 'Smartphone XYZ com 128GB, câmera 50MP', 1799.99),\n",
    "    ('Notebook ABC', 'Notebook ABC com processador i7, 16GB RAM', 4599.50),\n",
    "    ('Smart TV LED 50\"', 'Smart TV com resolução 4K Ultra HD', 2799.00),\n",
    "]\n",
    "\n",
    "# Inserindo produtos\n",
    "cursor.executemany('''\n",
    "INSERT INTO produto (nome, descricao, preco)\n",
    "VALUES (?, ?, ?)\n",
    "''', produtos)\n",
    "\n",
    "conn.commit()\n",
    "\n",
    "print(\"✅ Produtos inseridos com sucesso.\")\n"
   ]
  },
  {
   "cell_type": "markdown",
   "id": "3f218c50",
   "metadata": {},
   "source": [
    "## 📌 Desafio 2: Inserindo clientes na tabela `cliente`"
   ]
  },
  {
   "cell_type": "code",
   "execution_count": 18,
   "id": "083b315d",
   "metadata": {},
   "outputs": [
    {
     "name": "stdout",
     "output_type": "stream",
     "text": [
      "✅ Clientes inseridos com sucesso.\n"
     ]
    }
   ],
   "source": [
    "# Clientes para inserção\n",
    "clientes = [\n",
    "    ('Alice Silva', 'alice.silva@example.com', '(11)98765-4321'),\n",
    "    ('Bruno Souza', 'bruno.souza@example.com', '(21)91234-5678'),\n",
    "    ('Carla Mendes', 'carla.mendes@example.com', '(31)97654-3210'),\n",
    "]\n",
    "\n",
    "# Inserindo clientes\n",
    "cursor.executemany('''\n",
    "INSERT INTO cliente (nome, email, telefone)\n",
    "VALUES (?, ?, ?)\n",
    "''', clientes)\n",
    "\n",
    "conn.commit()\n",
    "\n",
    "print(\"✅ Clientes inseridos com sucesso.\")\n"
   ]
  },
  {
   "cell_type": "markdown",
   "id": "9137bbfd",
   "metadata": {},
   "source": [
    "## 📌 Desafio 3: Inserindo funcionários na tabela `funcionario`\n",
    "\n",
    "funcionários que serão responsáveis pelo atendimento ao cliente (SAC).\n"
   ]
  },
  {
   "cell_type": "code",
   "execution_count": 19,
   "id": "5602b3bb",
   "metadata": {},
   "outputs": [
    {
     "name": "stdout",
     "output_type": "stream",
     "text": [
      "✅ Funcionários inseridos com sucesso.\n"
     ]
    }
   ],
   "source": [
    "# Funcionários para inserção\n",
    "funcionarios = [\n",
    "    ('João Pereira', '12345678901', '1985-04-23', '(11)91234-5678', 'joao.pereira@example.com', 'Analista de SAC', 'Atendimento'),\n",
    "    ('Maria Gomes', '10987654321', '1990-09-10', '(21)92345-6789', 'maria.gomes@example.com', 'Supervisora de SAC', 'Atendimento'),\n",
    "]\n",
    "\n",
    "# Inserindo funcionários\n",
    "cursor.executemany('''\n",
    "INSERT INTO funcionario (nome, cpf, data_nascimento, telefone, email, cargo, departamento)\n",
    "VALUES (?, ?, ?, ?, ?, ?, ?)\n",
    "''', funcionarios)\n",
    "\n",
    "conn.commit()\n",
    "\n",
    "print(\"✅ Funcionários inseridos com sucesso.\")\n"
   ]
  },
  {
   "cell_type": "markdown",
   "id": "02ef7bc6",
   "metadata": {},
   "source": [
    "## 📌 Conferência dos dados inseridos"
   ]
  },
  {
   "cell_type": "code",
   "execution_count": 20,
   "id": "cc3a2cb9",
   "metadata": {},
   "outputs": [
    {
     "name": "stdout",
     "output_type": "stream",
     "text": [
      "📌 Produtos cadastrados:\n"
     ]
    },
    {
     "data": {
      "application/vnd.microsoft.datawrangler.viewer.v0+json": {
       "columns": [
        {
         "name": "index",
         "rawType": "int64",
         "type": "integer"
        },
        {
         "name": "id_produto",
         "rawType": "int64",
         "type": "integer"
        },
        {
         "name": "nome",
         "rawType": "object",
         "type": "string"
        },
        {
         "name": "descricao",
         "rawType": "object",
         "type": "string"
        },
        {
         "name": "preco",
         "rawType": "float64",
         "type": "float"
        },
        {
         "name": "data_cadastro",
         "rawType": "object",
         "type": "string"
        }
       ],
       "conversionMethod": "pd.DataFrame",
       "ref": "945e0d05-e805-4f09-ac92-2c2c17017f10",
       "rows": [
        [
         "0",
         "1",
         "Smartphone XYZ",
         "Smartphone XYZ com 128GB, câmera 50MP",
         "1799.99",
         "2025-04-21 15:40:25"
        ],
        [
         "1",
         "2",
         "Notebook ABC",
         "Notebook ABC com processador i7, 16GB RAM",
         "4599.5",
         "2025-04-21 15:40:25"
        ],
        [
         "2",
         "3",
         "Smart TV LED 50\"",
         "Smart TV com resolução 4K Ultra HD",
         "2799.0",
         "2025-04-21 15:40:25"
        ]
       ],
       "shape": {
        "columns": 5,
        "rows": 3
       }
      },
      "text/html": [
       "<div>\n",
       "<style scoped>\n",
       "    .dataframe tbody tr th:only-of-type {\n",
       "        vertical-align: middle;\n",
       "    }\n",
       "\n",
       "    .dataframe tbody tr th {\n",
       "        vertical-align: top;\n",
       "    }\n",
       "\n",
       "    .dataframe thead th {\n",
       "        text-align: right;\n",
       "    }\n",
       "</style>\n",
       "<table border=\"1\" class=\"dataframe\">\n",
       "  <thead>\n",
       "    <tr style=\"text-align: right;\">\n",
       "      <th></th>\n",
       "      <th>id_produto</th>\n",
       "      <th>nome</th>\n",
       "      <th>descricao</th>\n",
       "      <th>preco</th>\n",
       "      <th>data_cadastro</th>\n",
       "    </tr>\n",
       "  </thead>\n",
       "  <tbody>\n",
       "    <tr>\n",
       "      <th>0</th>\n",
       "      <td>1</td>\n",
       "      <td>Smartphone XYZ</td>\n",
       "      <td>Smartphone XYZ com 128GB, câmera 50MP</td>\n",
       "      <td>1799.99</td>\n",
       "      <td>2025-04-21 15:40:25</td>\n",
       "    </tr>\n",
       "    <tr>\n",
       "      <th>1</th>\n",
       "      <td>2</td>\n",
       "      <td>Notebook ABC</td>\n",
       "      <td>Notebook ABC com processador i7, 16GB RAM</td>\n",
       "      <td>4599.50</td>\n",
       "      <td>2025-04-21 15:40:25</td>\n",
       "    </tr>\n",
       "    <tr>\n",
       "      <th>2</th>\n",
       "      <td>3</td>\n",
       "      <td>Smart TV LED 50\"</td>\n",
       "      <td>Smart TV com resolução 4K Ultra HD</td>\n",
       "      <td>2799.00</td>\n",
       "      <td>2025-04-21 15:40:25</td>\n",
       "    </tr>\n",
       "  </tbody>\n",
       "</table>\n",
       "</div>"
      ],
      "text/plain": [
       "   id_produto              nome                                  descricao  \\\n",
       "0           1    Smartphone XYZ      Smartphone XYZ com 128GB, câmera 50MP   \n",
       "1           2      Notebook ABC  Notebook ABC com processador i7, 16GB RAM   \n",
       "2           3  Smart TV LED 50\"         Smart TV com resolução 4K Ultra HD   \n",
       "\n",
       "     preco        data_cadastro  \n",
       "0  1799.99  2025-04-21 15:40:25  \n",
       "1  4599.50  2025-04-21 15:40:25  \n",
       "2  2799.00  2025-04-21 15:40:25  "
      ]
     },
     "metadata": {},
     "output_type": "display_data"
    },
    {
     "name": "stdout",
     "output_type": "stream",
     "text": [
      "📌 Clientes cadastrados:\n"
     ]
    },
    {
     "data": {
      "application/vnd.microsoft.datawrangler.viewer.v0+json": {
       "columns": [
        {
         "name": "index",
         "rawType": "int64",
         "type": "integer"
        },
        {
         "name": "id_cliente",
         "rawType": "int64",
         "type": "integer"
        },
        {
         "name": "nome",
         "rawType": "object",
         "type": "string"
        },
        {
         "name": "email",
         "rawType": "object",
         "type": "string"
        },
        {
         "name": "telefone",
         "rawType": "object",
         "type": "string"
        },
        {
         "name": "data_cadastro",
         "rawType": "object",
         "type": "string"
        }
       ],
       "conversionMethod": "pd.DataFrame",
       "ref": "5f2735d7-49a7-4a79-8d36-f754d695f670",
       "rows": [
        [
         "0",
         "1",
         "Alice Silva",
         "alice.silva@example.com",
         "(11)98765-4321",
         "2025-04-21 15:40:25"
        ],
        [
         "1",
         "2",
         "Bruno Souza",
         "bruno.souza@example.com",
         "(21)91234-5678",
         "2025-04-21 15:40:25"
        ],
        [
         "2",
         "3",
         "Carla Mendes",
         "carla.mendes@example.com",
         "(31)97654-3210",
         "2025-04-21 15:40:25"
        ]
       ],
       "shape": {
        "columns": 5,
        "rows": 3
       }
      },
      "text/html": [
       "<div>\n",
       "<style scoped>\n",
       "    .dataframe tbody tr th:only-of-type {\n",
       "        vertical-align: middle;\n",
       "    }\n",
       "\n",
       "    .dataframe tbody tr th {\n",
       "        vertical-align: top;\n",
       "    }\n",
       "\n",
       "    .dataframe thead th {\n",
       "        text-align: right;\n",
       "    }\n",
       "</style>\n",
       "<table border=\"1\" class=\"dataframe\">\n",
       "  <thead>\n",
       "    <tr style=\"text-align: right;\">\n",
       "      <th></th>\n",
       "      <th>id_cliente</th>\n",
       "      <th>nome</th>\n",
       "      <th>email</th>\n",
       "      <th>telefone</th>\n",
       "      <th>data_cadastro</th>\n",
       "    </tr>\n",
       "  </thead>\n",
       "  <tbody>\n",
       "    <tr>\n",
       "      <th>0</th>\n",
       "      <td>1</td>\n",
       "      <td>Alice Silva</td>\n",
       "      <td>alice.silva@example.com</td>\n",
       "      <td>(11)98765-4321</td>\n",
       "      <td>2025-04-21 15:40:25</td>\n",
       "    </tr>\n",
       "    <tr>\n",
       "      <th>1</th>\n",
       "      <td>2</td>\n",
       "      <td>Bruno Souza</td>\n",
       "      <td>bruno.souza@example.com</td>\n",
       "      <td>(21)91234-5678</td>\n",
       "      <td>2025-04-21 15:40:25</td>\n",
       "    </tr>\n",
       "    <tr>\n",
       "      <th>2</th>\n",
       "      <td>3</td>\n",
       "      <td>Carla Mendes</td>\n",
       "      <td>carla.mendes@example.com</td>\n",
       "      <td>(31)97654-3210</td>\n",
       "      <td>2025-04-21 15:40:25</td>\n",
       "    </tr>\n",
       "  </tbody>\n",
       "</table>\n",
       "</div>"
      ],
      "text/plain": [
       "   id_cliente          nome                     email        telefone  \\\n",
       "0           1   Alice Silva   alice.silva@example.com  (11)98765-4321   \n",
       "1           2   Bruno Souza   bruno.souza@example.com  (21)91234-5678   \n",
       "2           3  Carla Mendes  carla.mendes@example.com  (31)97654-3210   \n",
       "\n",
       "         data_cadastro  \n",
       "0  2025-04-21 15:40:25  \n",
       "1  2025-04-21 15:40:25  \n",
       "2  2025-04-21 15:40:25  "
      ]
     },
     "metadata": {},
     "output_type": "display_data"
    },
    {
     "name": "stdout",
     "output_type": "stream",
     "text": [
      "📌 Funcionários cadastrados:\n"
     ]
    },
    {
     "data": {
      "application/vnd.microsoft.datawrangler.viewer.v0+json": {
       "columns": [
        {
         "name": "index",
         "rawType": "int64",
         "type": "integer"
        },
        {
         "name": "id_funcionario",
         "rawType": "int64",
         "type": "integer"
        },
        {
         "name": "nome",
         "rawType": "object",
         "type": "string"
        },
        {
         "name": "cpf",
         "rawType": "object",
         "type": "string"
        },
        {
         "name": "data_nascimento",
         "rawType": "object",
         "type": "string"
        },
        {
         "name": "telefone",
         "rawType": "object",
         "type": "string"
        },
        {
         "name": "email",
         "rawType": "object",
         "type": "string"
        },
        {
         "name": "cargo",
         "rawType": "object",
         "type": "string"
        },
        {
         "name": "departamento",
         "rawType": "object",
         "type": "string"
        }
       ],
       "conversionMethod": "pd.DataFrame",
       "ref": "80a06012-3a72-40d2-b64b-ca158167bc3e",
       "rows": [
        [
         "0",
         "1",
         "João Pereira",
         "12345678901",
         "1985-04-23",
         "(11)91234-5678",
         "joao.pereira@example.com",
         "Analista de SAC",
         "Atendimento"
        ],
        [
         "1",
         "2",
         "Maria Gomes",
         "10987654321",
         "1990-09-10",
         "(21)92345-6789",
         "maria.gomes@example.com",
         "Supervisora de SAC",
         "Atendimento"
        ]
       ],
       "shape": {
        "columns": 8,
        "rows": 2
       }
      },
      "text/html": [
       "<div>\n",
       "<style scoped>\n",
       "    .dataframe tbody tr th:only-of-type {\n",
       "        vertical-align: middle;\n",
       "    }\n",
       "\n",
       "    .dataframe tbody tr th {\n",
       "        vertical-align: top;\n",
       "    }\n",
       "\n",
       "    .dataframe thead th {\n",
       "        text-align: right;\n",
       "    }\n",
       "</style>\n",
       "<table border=\"1\" class=\"dataframe\">\n",
       "  <thead>\n",
       "    <tr style=\"text-align: right;\">\n",
       "      <th></th>\n",
       "      <th>id_funcionario</th>\n",
       "      <th>nome</th>\n",
       "      <th>cpf</th>\n",
       "      <th>data_nascimento</th>\n",
       "      <th>telefone</th>\n",
       "      <th>email</th>\n",
       "      <th>cargo</th>\n",
       "      <th>departamento</th>\n",
       "    </tr>\n",
       "  </thead>\n",
       "  <tbody>\n",
       "    <tr>\n",
       "      <th>0</th>\n",
       "      <td>1</td>\n",
       "      <td>João Pereira</td>\n",
       "      <td>12345678901</td>\n",
       "      <td>1985-04-23</td>\n",
       "      <td>(11)91234-5678</td>\n",
       "      <td>joao.pereira@example.com</td>\n",
       "      <td>Analista de SAC</td>\n",
       "      <td>Atendimento</td>\n",
       "    </tr>\n",
       "    <tr>\n",
       "      <th>1</th>\n",
       "      <td>2</td>\n",
       "      <td>Maria Gomes</td>\n",
       "      <td>10987654321</td>\n",
       "      <td>1990-09-10</td>\n",
       "      <td>(21)92345-6789</td>\n",
       "      <td>maria.gomes@example.com</td>\n",
       "      <td>Supervisora de SAC</td>\n",
       "      <td>Atendimento</td>\n",
       "    </tr>\n",
       "  </tbody>\n",
       "</table>\n",
       "</div>"
      ],
      "text/plain": [
       "   id_funcionario          nome          cpf data_nascimento        telefone  \\\n",
       "0               1  João Pereira  12345678901      1985-04-23  (11)91234-5678   \n",
       "1               2   Maria Gomes  10987654321      1990-09-10  (21)92345-6789   \n",
       "\n",
       "                      email               cargo departamento  \n",
       "0  joao.pereira@example.com     Analista de SAC  Atendimento  \n",
       "1   maria.gomes@example.com  Supervisora de SAC  Atendimento  "
      ]
     },
     "metadata": {},
     "output_type": "display_data"
    }
   ],
   "source": [
    "import pandas as pd\n",
    "\n",
    "# Conferir tabela produto\n",
    "print(\"📌 Produtos cadastrados:\")\n",
    "df_produto = pd.read_sql_query(\"SELECT * FROM produto\", conn)\n",
    "display(df_produto)\n",
    "\n",
    "# Conferir tabela cliente\n",
    "print(\"📌 Clientes cadastrados:\")\n",
    "df_cliente = pd.read_sql_query(\"SELECT * FROM cliente\", conn)\n",
    "display(df_cliente)\n",
    "\n",
    "# Conferir tabela funcionario\n",
    "print(\"📌 Funcionários cadastrados:\")\n",
    "df_funcionario = pd.read_sql_query(\"SELECT * FROM funcionario\", conn)\n",
    "display(df_funcionario)\n"
   ]
  },
  {
   "cell_type": "markdown",
   "id": "38029179",
   "metadata": {},
   "source": [
    "## 📌 Fechando conexão após inserções iniciais\n",
    "\n",
    "Encerrando a conexão segura com o SQLite após confirmação das inserções.\n"
   ]
  },
  {
   "cell_type": "code",
   "execution_count": 21,
   "id": "ee676f25",
   "metadata": {},
   "outputs": [
    {
     "name": "stdout",
     "output_type": "stream",
     "text": [
      "✅ Conexão fechada após inserções iniciais.\n"
     ]
    }
   ],
   "source": [
    "conn.close()\n",
    "print(\"✅ Conexão fechada após inserções iniciais.\")\n"
   ]
  },
  {
   "cell_type": "markdown",
   "id": "4262bffe",
   "metadata": {},
   "source": [
    "## 📌 Inserindo vídeos relacionados aos produtos cadastrados\n"
   ]
  },
  {
   "cell_type": "code",
   "execution_count": 22,
   "id": "b7c013be",
   "metadata": {},
   "outputs": [
    {
     "name": "stdout",
     "output_type": "stream",
     "text": [
      "✅ Vídeos relacionados aos produtos inseridos com sucesso.\n"
     ]
    }
   ],
   "source": [
    "import sqlite3\n",
    "\n",
    "# Reconectando ao SQLite\n",
    "conn = sqlite3.connect('melhores_compras.db')\n",
    "cursor = conn.cursor()\n",
    "\n",
    "# IDs dos produtos inseridos anteriormente (confirmar IDs antes de rodar!)\n",
    "# Exemplo genérico assumindo que IDs são 1, 2 e 3 respectivamente\n",
    "videos_produtos = [\n",
    "    (1, 'https://youtube.com/video-smartphone-xyz', 'Review Smartphone XYZ', 'A'),\n",
    "    (2, 'https://youtube.com/video-notebook-abc', 'Unboxing Notebook ABC', 'A'),\n",
    "    (3, 'https://youtube.com/video-smart-tv-led', 'Análise Smart TV 4K', 'I'),  # Inativo como exemplo\n",
    "]\n",
    "\n",
    "cursor.executemany('''\n",
    "INSERT INTO video_produto (id_produto, url_video, descricao, status)\n",
    "VALUES (?, ?, ?, ?)\n",
    "''', videos_produtos)\n",
    "\n",
    "conn.commit()\n",
    "print(\"✅ Vídeos relacionados aos produtos inseridos com sucesso.\")\n"
   ]
  },
  {
   "cell_type": "markdown",
   "id": "88875293",
   "metadata": {},
   "source": [
    "## 📌 Registrando visualizações de vídeos\n",
    "\n",
    "Simulando visualizações realizadas pelos clientes cadastrados e também por usuários anônimos.\n"
   ]
  },
  {
   "cell_type": "code",
   "execution_count": 23,
   "id": "b82e0909",
   "metadata": {},
   "outputs": [
    {
     "name": "stdout",
     "output_type": "stream",
     "text": [
      "✅ Visualizações de vídeos registradas com sucesso.\n"
     ]
    }
   ],
   "source": [
    "from datetime import datetime\n",
    "\n",
    "# Simulando visualizações (id_video, id_cliente, data_hora_visualizacao)\n",
    "# Vamos assumir que clientes têm id 1, 2 e 3\n",
    "visualizacoes = [\n",
    "    (1, 1, datetime.now()),\n",
    "    (2, 2, datetime.now()),\n",
    "    (1, None, datetime.now()),  # Anônimo assistindo vídeo\n",
    "]\n",
    "\n",
    "cursor.executemany('''\n",
    "INSERT INTO visualizacao_video (id_video, id_cliente, data_hora_visualizacao)\n",
    "VALUES (?, ?, ?)\n",
    "''', visualizacoes)\n",
    "\n",
    "conn.commit()\n",
    "print(\"✅ Visualizações de vídeos registradas com sucesso.\")\n"
   ]
  },
  {
   "cell_type": "markdown",
   "id": "91959988",
   "metadata": {},
   "source": [
    "## 📌 Registrando chamados de SAC\n",
    "\n",
    "Simulando abertura de chamados de atendimento ao cliente (SAC).\n"
   ]
  },
  {
   "cell_type": "code",
   "execution_count": 24,
   "id": "a2d1bf31",
   "metadata": {},
   "outputs": [
    {
     "name": "stdout",
     "output_type": "stream",
     "text": [
      "✅ Chamados do SAC registrados com sucesso.\n"
     ]
    }
   ],
   "source": [
    "# Chamados para inserção (exemplos fictícios)\n",
    "# Assumindo id_cliente 1, id_produto 1, id_funcionario 1\n",
    "chamados_sac = [\n",
    "    (1, 1, 1, datetime.now(), None, None, 'A', '2', None, 'Problema na câmera do Smartphone XYZ'),\n",
    "    (2, 2, 2, datetime.now(), datetime.now(), 30, 'F', '1', 90, 'Sugestão para melhorar o Notebook ABC'),\n",
    "]\n",
    "\n",
    "cursor.executemany('''\n",
    "INSERT INTO sac (\n",
    "    id_cliente, id_produto, id_funcionario, data_hora_abertura, data_hora_atendimento,\n",
    "    tempo_total_atendimento, status_chamado, tipo_chamado, indice_satisfacao, descricao_chamado\n",
    ") VALUES (?, ?, ?, ?, ?, ?, ?, ?, ?, ?)\n",
    "''', chamados_sac)\n",
    "\n",
    "conn.commit()\n",
    "print(\"✅ Chamados do SAC registrados com sucesso.\")\n"
   ]
  },
  {
   "cell_type": "markdown",
   "id": "c4ab8c7d",
   "metadata": {},
   "source": [
    "## 📌 Conferindo novos dados inseridos\n",
    "\n",
    "Agora, vamos verificar se vídeos, visualizações e chamados do SAC foram inseridos corretamente.\n"
   ]
  },
  {
   "cell_type": "code",
   "execution_count": 25,
   "id": "292fc9d4",
   "metadata": {},
   "outputs": [
    {
     "name": "stdout",
     "output_type": "stream",
     "text": [
      "📌 Vídeos cadastrados:\n"
     ]
    },
    {
     "data": {
      "application/vnd.microsoft.datawrangler.viewer.v0+json": {
       "columns": [
        {
         "name": "index",
         "rawType": "int64",
         "type": "integer"
        },
        {
         "name": "id_video",
         "rawType": "int64",
         "type": "integer"
        },
        {
         "name": "id_produto",
         "rawType": "int64",
         "type": "integer"
        },
        {
         "name": "url_video",
         "rawType": "object",
         "type": "string"
        },
        {
         "name": "descricao",
         "rawType": "object",
         "type": "string"
        },
        {
         "name": "status",
         "rawType": "object",
         "type": "string"
        },
        {
         "name": "data_cadastro",
         "rawType": "object",
         "type": "string"
        }
       ],
       "conversionMethod": "pd.DataFrame",
       "ref": "95258dbb-770d-4fc8-a91c-5d2c3cca55cf",
       "rows": [
        [
         "0",
         "1",
         "1",
         "https://youtube.com/video-smartphone-xyz",
         "Review Smartphone XYZ",
         "A",
         "2025-04-21 15:40:30"
        ],
        [
         "1",
         "2",
         "2",
         "https://youtube.com/video-notebook-abc",
         "Unboxing Notebook ABC",
         "A",
         "2025-04-21 15:40:30"
        ],
        [
         "2",
         "3",
         "3",
         "https://youtube.com/video-smart-tv-led",
         "Análise Smart TV 4K",
         "I",
         "2025-04-21 15:40:30"
        ]
       ],
       "shape": {
        "columns": 6,
        "rows": 3
       }
      },
      "text/html": [
       "<div>\n",
       "<style scoped>\n",
       "    .dataframe tbody tr th:only-of-type {\n",
       "        vertical-align: middle;\n",
       "    }\n",
       "\n",
       "    .dataframe tbody tr th {\n",
       "        vertical-align: top;\n",
       "    }\n",
       "\n",
       "    .dataframe thead th {\n",
       "        text-align: right;\n",
       "    }\n",
       "</style>\n",
       "<table border=\"1\" class=\"dataframe\">\n",
       "  <thead>\n",
       "    <tr style=\"text-align: right;\">\n",
       "      <th></th>\n",
       "      <th>id_video</th>\n",
       "      <th>id_produto</th>\n",
       "      <th>url_video</th>\n",
       "      <th>descricao</th>\n",
       "      <th>status</th>\n",
       "      <th>data_cadastro</th>\n",
       "    </tr>\n",
       "  </thead>\n",
       "  <tbody>\n",
       "    <tr>\n",
       "      <th>0</th>\n",
       "      <td>1</td>\n",
       "      <td>1</td>\n",
       "      <td>https://youtube.com/video-smartphone-xyz</td>\n",
       "      <td>Review Smartphone XYZ</td>\n",
       "      <td>A</td>\n",
       "      <td>2025-04-21 15:40:30</td>\n",
       "    </tr>\n",
       "    <tr>\n",
       "      <th>1</th>\n",
       "      <td>2</td>\n",
       "      <td>2</td>\n",
       "      <td>https://youtube.com/video-notebook-abc</td>\n",
       "      <td>Unboxing Notebook ABC</td>\n",
       "      <td>A</td>\n",
       "      <td>2025-04-21 15:40:30</td>\n",
       "    </tr>\n",
       "    <tr>\n",
       "      <th>2</th>\n",
       "      <td>3</td>\n",
       "      <td>3</td>\n",
       "      <td>https://youtube.com/video-smart-tv-led</td>\n",
       "      <td>Análise Smart TV 4K</td>\n",
       "      <td>I</td>\n",
       "      <td>2025-04-21 15:40:30</td>\n",
       "    </tr>\n",
       "  </tbody>\n",
       "</table>\n",
       "</div>"
      ],
      "text/plain": [
       "   id_video  id_produto                                 url_video  \\\n",
       "0         1           1  https://youtube.com/video-smartphone-xyz   \n",
       "1         2           2    https://youtube.com/video-notebook-abc   \n",
       "2         3           3    https://youtube.com/video-smart-tv-led   \n",
       "\n",
       "               descricao status        data_cadastro  \n",
       "0  Review Smartphone XYZ      A  2025-04-21 15:40:30  \n",
       "1  Unboxing Notebook ABC      A  2025-04-21 15:40:30  \n",
       "2    Análise Smart TV 4K      I  2025-04-21 15:40:30  "
      ]
     },
     "metadata": {},
     "output_type": "display_data"
    },
    {
     "name": "stdout",
     "output_type": "stream",
     "text": [
      "📌 Visualizações registradas:\n"
     ]
    },
    {
     "data": {
      "application/vnd.microsoft.datawrangler.viewer.v0+json": {
       "columns": [
        {
         "name": "index",
         "rawType": "int64",
         "type": "integer"
        },
        {
         "name": "id_visualizacao",
         "rawType": "int64",
         "type": "integer"
        },
        {
         "name": "id_video",
         "rawType": "int64",
         "type": "integer"
        },
        {
         "name": "id_cliente",
         "rawType": "float64",
         "type": "float"
        },
        {
         "name": "data_hora_visualizacao",
         "rawType": "object",
         "type": "string"
        }
       ],
       "conversionMethod": "pd.DataFrame",
       "ref": "29e87e28-b108-43fe-a554-6a3ae6097f06",
       "rows": [
        [
         "0",
         "1",
         "1",
         "1.0",
         "2025-04-21 12:40:30.397822"
        ],
        [
         "1",
         "2",
         "2",
         "2.0",
         "2025-04-21 12:40:30.397822"
        ],
        [
         "2",
         "3",
         "1",
         null,
         "2025-04-21 12:40:30.397822"
        ]
       ],
       "shape": {
        "columns": 4,
        "rows": 3
       }
      },
      "text/html": [
       "<div>\n",
       "<style scoped>\n",
       "    .dataframe tbody tr th:only-of-type {\n",
       "        vertical-align: middle;\n",
       "    }\n",
       "\n",
       "    .dataframe tbody tr th {\n",
       "        vertical-align: top;\n",
       "    }\n",
       "\n",
       "    .dataframe thead th {\n",
       "        text-align: right;\n",
       "    }\n",
       "</style>\n",
       "<table border=\"1\" class=\"dataframe\">\n",
       "  <thead>\n",
       "    <tr style=\"text-align: right;\">\n",
       "      <th></th>\n",
       "      <th>id_visualizacao</th>\n",
       "      <th>id_video</th>\n",
       "      <th>id_cliente</th>\n",
       "      <th>data_hora_visualizacao</th>\n",
       "    </tr>\n",
       "  </thead>\n",
       "  <tbody>\n",
       "    <tr>\n",
       "      <th>0</th>\n",
       "      <td>1</td>\n",
       "      <td>1</td>\n",
       "      <td>1.0</td>\n",
       "      <td>2025-04-21 12:40:30.397822</td>\n",
       "    </tr>\n",
       "    <tr>\n",
       "      <th>1</th>\n",
       "      <td>2</td>\n",
       "      <td>2</td>\n",
       "      <td>2.0</td>\n",
       "      <td>2025-04-21 12:40:30.397822</td>\n",
       "    </tr>\n",
       "    <tr>\n",
       "      <th>2</th>\n",
       "      <td>3</td>\n",
       "      <td>1</td>\n",
       "      <td>NaN</td>\n",
       "      <td>2025-04-21 12:40:30.397822</td>\n",
       "    </tr>\n",
       "  </tbody>\n",
       "</table>\n",
       "</div>"
      ],
      "text/plain": [
       "   id_visualizacao  id_video  id_cliente      data_hora_visualizacao\n",
       "0                1         1         1.0  2025-04-21 12:40:30.397822\n",
       "1                2         2         2.0  2025-04-21 12:40:30.397822\n",
       "2                3         1         NaN  2025-04-21 12:40:30.397822"
      ]
     },
     "metadata": {},
     "output_type": "display_data"
    },
    {
     "name": "stdout",
     "output_type": "stream",
     "text": [
      "📌 Chamados SAC registrados:\n"
     ]
    },
    {
     "data": {
      "application/vnd.microsoft.datawrangler.viewer.v0+json": {
       "columns": [
        {
         "name": "index",
         "rawType": "int64",
         "type": "integer"
        },
        {
         "name": "id_sac",
         "rawType": "int64",
         "type": "integer"
        },
        {
         "name": "id_cliente",
         "rawType": "int64",
         "type": "integer"
        },
        {
         "name": "id_produto",
         "rawType": "int64",
         "type": "integer"
        },
        {
         "name": "id_funcionario",
         "rawType": "int64",
         "type": "integer"
        },
        {
         "name": "data_hora_abertura",
         "rawType": "object",
         "type": "string"
        },
        {
         "name": "data_hora_atendimento",
         "rawType": "object",
         "type": "unknown"
        },
        {
         "name": "tempo_total_atendimento",
         "rawType": "float64",
         "type": "float"
        },
        {
         "name": "status_chamado",
         "rawType": "object",
         "type": "string"
        },
        {
         "name": "tipo_chamado",
         "rawType": "object",
         "type": "string"
        },
        {
         "name": "indice_satisfacao",
         "rawType": "float64",
         "type": "float"
        },
        {
         "name": "descricao_chamado",
         "rawType": "object",
         "type": "string"
        }
       ],
       "conversionMethod": "pd.DataFrame",
       "ref": "58de2116-d2bf-4275-869e-ed4e1212a1f9",
       "rows": [
        [
         "0",
         "1",
         "1",
         "1",
         "1",
         "2025-04-21 12:40:30.430184",
         null,
         null,
         "A",
         "2",
         null,
         "Problema na câmera do Smartphone XYZ"
        ],
        [
         "1",
         "2",
         "2",
         "2",
         "2",
         "2025-04-21 12:40:30.430184",
         "2025-04-21 12:40:30.430184",
         "30.0",
         "F",
         "1",
         "90.0",
         "Sugestão para melhorar o Notebook ABC"
        ]
       ],
       "shape": {
        "columns": 11,
        "rows": 2
       }
      },
      "text/html": [
       "<div>\n",
       "<style scoped>\n",
       "    .dataframe tbody tr th:only-of-type {\n",
       "        vertical-align: middle;\n",
       "    }\n",
       "\n",
       "    .dataframe tbody tr th {\n",
       "        vertical-align: top;\n",
       "    }\n",
       "\n",
       "    .dataframe thead th {\n",
       "        text-align: right;\n",
       "    }\n",
       "</style>\n",
       "<table border=\"1\" class=\"dataframe\">\n",
       "  <thead>\n",
       "    <tr style=\"text-align: right;\">\n",
       "      <th></th>\n",
       "      <th>id_sac</th>\n",
       "      <th>id_cliente</th>\n",
       "      <th>id_produto</th>\n",
       "      <th>id_funcionario</th>\n",
       "      <th>data_hora_abertura</th>\n",
       "      <th>data_hora_atendimento</th>\n",
       "      <th>tempo_total_atendimento</th>\n",
       "      <th>status_chamado</th>\n",
       "      <th>tipo_chamado</th>\n",
       "      <th>indice_satisfacao</th>\n",
       "      <th>descricao_chamado</th>\n",
       "    </tr>\n",
       "  </thead>\n",
       "  <tbody>\n",
       "    <tr>\n",
       "      <th>0</th>\n",
       "      <td>1</td>\n",
       "      <td>1</td>\n",
       "      <td>1</td>\n",
       "      <td>1</td>\n",
       "      <td>2025-04-21 12:40:30.430184</td>\n",
       "      <td>None</td>\n",
       "      <td>NaN</td>\n",
       "      <td>A</td>\n",
       "      <td>2</td>\n",
       "      <td>NaN</td>\n",
       "      <td>Problema na câmera do Smartphone XYZ</td>\n",
       "    </tr>\n",
       "    <tr>\n",
       "      <th>1</th>\n",
       "      <td>2</td>\n",
       "      <td>2</td>\n",
       "      <td>2</td>\n",
       "      <td>2</td>\n",
       "      <td>2025-04-21 12:40:30.430184</td>\n",
       "      <td>2025-04-21 12:40:30.430184</td>\n",
       "      <td>30.0</td>\n",
       "      <td>F</td>\n",
       "      <td>1</td>\n",
       "      <td>90.0</td>\n",
       "      <td>Sugestão para melhorar o Notebook ABC</td>\n",
       "    </tr>\n",
       "  </tbody>\n",
       "</table>\n",
       "</div>"
      ],
      "text/plain": [
       "   id_sac  id_cliente  id_produto  id_funcionario          data_hora_abertura  \\\n",
       "0       1           1           1               1  2025-04-21 12:40:30.430184   \n",
       "1       2           2           2               2  2025-04-21 12:40:30.430184   \n",
       "\n",
       "        data_hora_atendimento  tempo_total_atendimento status_chamado  \\\n",
       "0                        None                      NaN              A   \n",
       "1  2025-04-21 12:40:30.430184                     30.0              F   \n",
       "\n",
       "  tipo_chamado  indice_satisfacao                      descricao_chamado  \n",
       "0            2                NaN   Problema na câmera do Smartphone XYZ  \n",
       "1            1               90.0  Sugestão para melhorar o Notebook ABC  "
      ]
     },
     "metadata": {},
     "output_type": "display_data"
    }
   ],
   "source": [
    "import pandas as pd\n",
    "\n",
    "# Conferir vídeos cadastrados\n",
    "print(\"📌 Vídeos cadastrados:\")\n",
    "df_videos = pd.read_sql_query(\"SELECT * FROM video_produto\", conn)\n",
    "display(df_videos)\n",
    "\n",
    "# Conferir visualizações cadastradas\n",
    "print(\"📌 Visualizações registradas:\")\n",
    "df_visualizacoes = pd.read_sql_query(\"SELECT * FROM visualizacao_video\", conn)\n",
    "display(df_visualizacoes)\n",
    "\n",
    "# Conferir chamados SAC cadastrados\n",
    "print(\"📌 Chamados SAC registrados:\")\n",
    "df_sac = pd.read_sql_query(\"SELECT * FROM sac\", conn)\n",
    "display(df_sac)\n"
   ]
  },
  {
   "cell_type": "markdown",
   "id": "8f78b40e",
   "metadata": {},
   "source": [
    "## 📌 Fechando conexão após etapa de vídeos, visualizações e SAC\n"
   ]
  },
  {
   "cell_type": "code",
   "execution_count": 26,
   "id": "c5d89609",
   "metadata": {},
   "outputs": [
    {
     "name": "stdout",
     "output_type": "stream",
     "text": [
      "✅ Conexão fechada após completar vídeos, visualizações e SAC.\n"
     ]
    }
   ],
   "source": [
    "conn.close()\n",
    "print(\"✅ Conexão fechada após completar vídeos, visualizações e SAC.\")\n"
   ]
  },
  {
   "cell_type": "markdown",
   "id": "3a54e54e",
   "metadata": {},
   "source": [
    "## 📌 Consulta 1: Produtos com vídeos ativos\n",
    "Listar todos os produtos que possuem pelo menos um vídeo com status 'A' (ativo).\n"
   ]
  },
  {
   "cell_type": "code",
   "execution_count": 27,
   "id": "186597cf",
   "metadata": {},
   "outputs": [
    {
     "data": {
      "application/vnd.microsoft.datawrangler.viewer.v0+json": {
       "columns": [
        {
         "name": "index",
         "rawType": "int64",
         "type": "integer"
        },
        {
         "name": "id_produto",
         "rawType": "int64",
         "type": "integer"
        },
        {
         "name": "nome_produto",
         "rawType": "object",
         "type": "string"
        },
        {
         "name": "id_video",
         "rawType": "int64",
         "type": "integer"
        },
        {
         "name": "url_video",
         "rawType": "object",
         "type": "string"
        },
        {
         "name": "status",
         "rawType": "object",
         "type": "string"
        }
       ],
       "conversionMethod": "pd.DataFrame",
       "ref": "92335262-2c9a-43e9-a81c-d348a72fa3d6",
       "rows": [
        [
         "0",
         "1",
         "Smartphone XYZ",
         "1",
         "https://youtube.com/video-smartphone-xyz",
         "A"
        ],
        [
         "1",
         "2",
         "Notebook ABC",
         "2",
         "https://youtube.com/video-notebook-abc",
         "A"
        ]
       ],
       "shape": {
        "columns": 5,
        "rows": 2
       }
      },
      "text/html": [
       "<div>\n",
       "<style scoped>\n",
       "    .dataframe tbody tr th:only-of-type {\n",
       "        vertical-align: middle;\n",
       "    }\n",
       "\n",
       "    .dataframe tbody tr th {\n",
       "        vertical-align: top;\n",
       "    }\n",
       "\n",
       "    .dataframe thead th {\n",
       "        text-align: right;\n",
       "    }\n",
       "</style>\n",
       "<table border=\"1\" class=\"dataframe\">\n",
       "  <thead>\n",
       "    <tr style=\"text-align: right;\">\n",
       "      <th></th>\n",
       "      <th>id_produto</th>\n",
       "      <th>nome_produto</th>\n",
       "      <th>id_video</th>\n",
       "      <th>url_video</th>\n",
       "      <th>status</th>\n",
       "    </tr>\n",
       "  </thead>\n",
       "  <tbody>\n",
       "    <tr>\n",
       "      <th>0</th>\n",
       "      <td>1</td>\n",
       "      <td>Smartphone XYZ</td>\n",
       "      <td>1</td>\n",
       "      <td>https://youtube.com/video-smartphone-xyz</td>\n",
       "      <td>A</td>\n",
       "    </tr>\n",
       "    <tr>\n",
       "      <th>1</th>\n",
       "      <td>2</td>\n",
       "      <td>Notebook ABC</td>\n",
       "      <td>2</td>\n",
       "      <td>https://youtube.com/video-notebook-abc</td>\n",
       "      <td>A</td>\n",
       "    </tr>\n",
       "  </tbody>\n",
       "</table>\n",
       "</div>"
      ],
      "text/plain": [
       "   id_produto    nome_produto  id_video  \\\n",
       "0           1  Smartphone XYZ         1   \n",
       "1           2    Notebook ABC         2   \n",
       "\n",
       "                                  url_video status  \n",
       "0  https://youtube.com/video-smartphone-xyz      A  \n",
       "1    https://youtube.com/video-notebook-abc      A  "
      ]
     },
     "execution_count": 27,
     "metadata": {},
     "output_type": "execute_result"
    }
   ],
   "source": [
    "import sqlite3\n",
    "import pandas as pd\n",
    "\n",
    "# Conexão\n",
    "conn = sqlite3.connect('melhores_compras.db')\n",
    "\n",
    "query = '''\n",
    "SELECT p.id_produto, p.nome AS nome_produto, v.id_video, v.url_video, v.status\n",
    "FROM produto p\n",
    "JOIN video_produto v ON p.id_produto = v.id_produto\n",
    "WHERE v.status = 'A'\n",
    "'''\n",
    "\n",
    "df_videos_ativos = pd.read_sql_query(query, conn)\n",
    "df_videos_ativos\n"
   ]
  },
  {
   "cell_type": "markdown",
   "id": "468a0855",
   "metadata": {},
   "source": [
    "## 📌 Consulta 2: Contagem de visualizações por vídeo\n",
    "Exibir quantas vezes cada vídeo foi visualizado, incluindo vídeos sem visualização.\n"
   ]
  },
  {
   "cell_type": "code",
   "execution_count": 28,
   "id": "17c1ae48",
   "metadata": {},
   "outputs": [
    {
     "data": {
      "application/vnd.microsoft.datawrangler.viewer.v0+json": {
       "columns": [
        {
         "name": "index",
         "rawType": "int64",
         "type": "integer"
        },
        {
         "name": "id_video",
         "rawType": "int64",
         "type": "integer"
        },
        {
         "name": "descricao",
         "rawType": "object",
         "type": "string"
        },
        {
         "name": "total_visualizacoes",
         "rawType": "int64",
         "type": "integer"
        }
       ],
       "conversionMethod": "pd.DataFrame",
       "ref": "2c596ad7-f074-47ca-bf26-4a51022a602f",
       "rows": [
        [
         "0",
         "1",
         "Review Smartphone XYZ",
         "2"
        ],
        [
         "1",
         "2",
         "Unboxing Notebook ABC",
         "1"
        ],
        [
         "2",
         "3",
         "Análise Smart TV 4K",
         "0"
        ]
       ],
       "shape": {
        "columns": 3,
        "rows": 3
       }
      },
      "text/html": [
       "<div>\n",
       "<style scoped>\n",
       "    .dataframe tbody tr th:only-of-type {\n",
       "        vertical-align: middle;\n",
       "    }\n",
       "\n",
       "    .dataframe tbody tr th {\n",
       "        vertical-align: top;\n",
       "    }\n",
       "\n",
       "    .dataframe thead th {\n",
       "        text-align: right;\n",
       "    }\n",
       "</style>\n",
       "<table border=\"1\" class=\"dataframe\">\n",
       "  <thead>\n",
       "    <tr style=\"text-align: right;\">\n",
       "      <th></th>\n",
       "      <th>id_video</th>\n",
       "      <th>descricao</th>\n",
       "      <th>total_visualizacoes</th>\n",
       "    </tr>\n",
       "  </thead>\n",
       "  <tbody>\n",
       "    <tr>\n",
       "      <th>0</th>\n",
       "      <td>1</td>\n",
       "      <td>Review Smartphone XYZ</td>\n",
       "      <td>2</td>\n",
       "    </tr>\n",
       "    <tr>\n",
       "      <th>1</th>\n",
       "      <td>2</td>\n",
       "      <td>Unboxing Notebook ABC</td>\n",
       "      <td>1</td>\n",
       "    </tr>\n",
       "    <tr>\n",
       "      <th>2</th>\n",
       "      <td>3</td>\n",
       "      <td>Análise Smart TV 4K</td>\n",
       "      <td>0</td>\n",
       "    </tr>\n",
       "  </tbody>\n",
       "</table>\n",
       "</div>"
      ],
      "text/plain": [
       "   id_video              descricao  total_visualizacoes\n",
       "0         1  Review Smartphone XYZ                    2\n",
       "1         2  Unboxing Notebook ABC                    1\n",
       "2         3    Análise Smart TV 4K                    0"
      ]
     },
     "execution_count": 28,
     "metadata": {},
     "output_type": "execute_result"
    }
   ],
   "source": [
    "query = '''\n",
    "SELECT v.id_video, v.descricao, COUNT(vv.id_visualizacao) AS total_visualizacoes\n",
    "FROM video_produto v\n",
    "LEFT JOIN visualizacao_video vv ON v.id_video = vv.id_video\n",
    "GROUP BY v.id_video, v.descricao\n",
    "'''\n",
    "\n",
    "df_visualizacoes = pd.read_sql_query(query, conn)\n",
    "df_visualizacoes\n"
   ]
  },
  {
   "cell_type": "markdown",
   "id": "34c3ba8d",
   "metadata": {},
   "source": [
    "## 📌 Consulta 3: Chamados de SAC por cliente\n",
    "Exibir quantos chamados cada cliente abriu no SAC.\n"
   ]
  },
  {
   "cell_type": "code",
   "execution_count": 29,
   "id": "b2f46bc9",
   "metadata": {},
   "outputs": [
    {
     "data": {
      "application/vnd.microsoft.datawrangler.viewer.v0+json": {
       "columns": [
        {
         "name": "index",
         "rawType": "int64",
         "type": "integer"
        },
        {
         "name": "cliente",
         "rawType": "object",
         "type": "string"
        },
        {
         "name": "total_chamados",
         "rawType": "int64",
         "type": "integer"
        }
       ],
       "conversionMethod": "pd.DataFrame",
       "ref": "a3042314-6721-4a8f-a409-dddced23eefb",
       "rows": [
        [
         "0",
         "Alice Silva",
         "1"
        ],
        [
         "1",
         "Bruno Souza",
         "1"
        ]
       ],
       "shape": {
        "columns": 2,
        "rows": 2
       }
      },
      "text/html": [
       "<div>\n",
       "<style scoped>\n",
       "    .dataframe tbody tr th:only-of-type {\n",
       "        vertical-align: middle;\n",
       "    }\n",
       "\n",
       "    .dataframe tbody tr th {\n",
       "        vertical-align: top;\n",
       "    }\n",
       "\n",
       "    .dataframe thead th {\n",
       "        text-align: right;\n",
       "    }\n",
       "</style>\n",
       "<table border=\"1\" class=\"dataframe\">\n",
       "  <thead>\n",
       "    <tr style=\"text-align: right;\">\n",
       "      <th></th>\n",
       "      <th>cliente</th>\n",
       "      <th>total_chamados</th>\n",
       "    </tr>\n",
       "  </thead>\n",
       "  <tbody>\n",
       "    <tr>\n",
       "      <th>0</th>\n",
       "      <td>Alice Silva</td>\n",
       "      <td>1</td>\n",
       "    </tr>\n",
       "    <tr>\n",
       "      <th>1</th>\n",
       "      <td>Bruno Souza</td>\n",
       "      <td>1</td>\n",
       "    </tr>\n",
       "  </tbody>\n",
       "</table>\n",
       "</div>"
      ],
      "text/plain": [
       "       cliente  total_chamados\n",
       "0  Alice Silva               1\n",
       "1  Bruno Souza               1"
      ]
     },
     "execution_count": 29,
     "metadata": {},
     "output_type": "execute_result"
    }
   ],
   "source": [
    "\n",
    "query = '''\n",
    "SELECT c.nome AS cliente, COUNT(s.id_sac) AS total_chamados\n",
    "FROM cliente c\n",
    "JOIN sac s ON c.id_cliente = s.id_cliente\n",
    "GROUP BY c.nome\n",
    "'''\n",
    "\n",
    "df_chamados_por_cliente = pd.read_sql_query(query, conn)\n",
    "df_chamados_por_cliente\n"
   ]
  },
  {
   "cell_type": "markdown",
   "id": "970bd1e0",
   "metadata": {},
   "source": [
    "## 📌 Consulta 4: Distribuição de chamados por tipo e status\n",
    "Mostrar uma matriz cruzada com tipo de chamado (sugestão ou reclamação) versus status (aberto, fechado, etc).\n"
   ]
  },
  {
   "cell_type": "code",
   "execution_count": 30,
   "id": "20b38727",
   "metadata": {},
   "outputs": [
    {
     "data": {
      "application/vnd.microsoft.datawrangler.viewer.v0+json": {
       "columns": [
        {
         "name": "index",
         "rawType": "int64",
         "type": "integer"
        },
        {
         "name": "tipo_chamado",
         "rawType": "object",
         "type": "string"
        },
        {
         "name": "status_chamado",
         "rawType": "object",
         "type": "string"
        },
        {
         "name": "total",
         "rawType": "int64",
         "type": "integer"
        }
       ],
       "conversionMethod": "pd.DataFrame",
       "ref": "cff8ed01-4f4b-4591-b214-1ded613a06ae",
       "rows": [
        [
         "0",
         "1",
         "F",
         "1"
        ],
        [
         "1",
         "2",
         "A",
         "1"
        ]
       ],
       "shape": {
        "columns": 3,
        "rows": 2
       }
      },
      "text/html": [
       "<div>\n",
       "<style scoped>\n",
       "    .dataframe tbody tr th:only-of-type {\n",
       "        vertical-align: middle;\n",
       "    }\n",
       "\n",
       "    .dataframe tbody tr th {\n",
       "        vertical-align: top;\n",
       "    }\n",
       "\n",
       "    .dataframe thead th {\n",
       "        text-align: right;\n",
       "    }\n",
       "</style>\n",
       "<table border=\"1\" class=\"dataframe\">\n",
       "  <thead>\n",
       "    <tr style=\"text-align: right;\">\n",
       "      <th></th>\n",
       "      <th>tipo_chamado</th>\n",
       "      <th>status_chamado</th>\n",
       "      <th>total</th>\n",
       "    </tr>\n",
       "  </thead>\n",
       "  <tbody>\n",
       "    <tr>\n",
       "      <th>0</th>\n",
       "      <td>1</td>\n",
       "      <td>F</td>\n",
       "      <td>1</td>\n",
       "    </tr>\n",
       "    <tr>\n",
       "      <th>1</th>\n",
       "      <td>2</td>\n",
       "      <td>A</td>\n",
       "      <td>1</td>\n",
       "    </tr>\n",
       "  </tbody>\n",
       "</table>\n",
       "</div>"
      ],
      "text/plain": [
       "  tipo_chamado status_chamado  total\n",
       "0            1              F      1\n",
       "1            2              A      1"
      ]
     },
     "execution_count": 30,
     "metadata": {},
     "output_type": "execute_result"
    }
   ],
   "source": [
    "query = '''\n",
    "SELECT\n",
    "  tipo_chamado,\n",
    "  status_chamado,\n",
    "  COUNT(*) AS total\n",
    "FROM sac\n",
    "GROUP BY tipo_chamado, status_chamado\n",
    "'''\n",
    "\n",
    "df_tipo_status = pd.read_sql_query(query, conn)\n",
    "df_tipo_status\n"
   ]
  },
  {
   "cell_type": "markdown",
   "id": "c0eb2e91",
   "metadata": {},
   "source": [
    "## 📌 Consulta 5: Satisfação média por funcionário\n",
    "Obter a média do índice de satisfação dos chamados atendidos por cada funcionário.\n"
   ]
  },
  {
   "cell_type": "code",
   "execution_count": 31,
   "id": "3a6ba6f0",
   "metadata": {},
   "outputs": [
    {
     "data": {
      "application/vnd.microsoft.datawrangler.viewer.v0+json": {
       "columns": [
        {
         "name": "index",
         "rawType": "int64",
         "type": "integer"
        },
        {
         "name": "funcionario",
         "rawType": "object",
         "type": "string"
        },
        {
         "name": "media_satisfacao",
         "rawType": "float64",
         "type": "float"
        }
       ],
       "conversionMethod": "pd.DataFrame",
       "ref": "53bb773c-508d-4268-a2c2-eb71d81d31f1",
       "rows": [
        [
         "0",
         "Maria Gomes",
         "90.0"
        ]
       ],
       "shape": {
        "columns": 2,
        "rows": 1
       }
      },
      "text/html": [
       "<div>\n",
       "<style scoped>\n",
       "    .dataframe tbody tr th:only-of-type {\n",
       "        vertical-align: middle;\n",
       "    }\n",
       "\n",
       "    .dataframe tbody tr th {\n",
       "        vertical-align: top;\n",
       "    }\n",
       "\n",
       "    .dataframe thead th {\n",
       "        text-align: right;\n",
       "    }\n",
       "</style>\n",
       "<table border=\"1\" class=\"dataframe\">\n",
       "  <thead>\n",
       "    <tr style=\"text-align: right;\">\n",
       "      <th></th>\n",
       "      <th>funcionario</th>\n",
       "      <th>media_satisfacao</th>\n",
       "    </tr>\n",
       "  </thead>\n",
       "  <tbody>\n",
       "    <tr>\n",
       "      <th>0</th>\n",
       "      <td>Maria Gomes</td>\n",
       "      <td>90.0</td>\n",
       "    </tr>\n",
       "  </tbody>\n",
       "</table>\n",
       "</div>"
      ],
      "text/plain": [
       "   funcionario  media_satisfacao\n",
       "0  Maria Gomes              90.0"
      ]
     },
     "execution_count": 31,
     "metadata": {},
     "output_type": "execute_result"
    }
   ],
   "source": [
    "query = '''\n",
    "SELECT f.nome AS funcionario, AVG(s.indice_satisfacao) AS media_satisfacao\n",
    "FROM sac s\n",
    "JOIN funcionario f ON s.id_funcionario = f.id_funcionario\n",
    "WHERE s.indice_satisfacao IS NOT NULL\n",
    "GROUP BY f.nome\n",
    "'''\n",
    "\n",
    "df_satisfacao_funcionario = pd.read_sql_query(query, conn)\n",
    "df_satisfacao_funcionario\n"
   ]
  },
  {
   "cell_type": "markdown",
   "id": "c330f72f",
   "metadata": {},
   "source": [
    "## 📌 Consulta 6: Clientes que visualizaram vídeos mas não abriram SAC\n",
    "Listar os clientes que visualizaram vídeos e nunca abriram chamados.\n"
   ]
  },
  {
   "cell_type": "code",
   "execution_count": 32,
   "id": "54d3c17f",
   "metadata": {},
   "outputs": [
    {
     "data": {
      "application/vnd.microsoft.datawrangler.viewer.v0+json": {
       "columns": [
        {
         "name": "index",
         "rawType": "int64",
         "type": "integer"
        },
        {
         "name": "id_cliente",
         "rawType": "object",
         "type": "string"
        },
        {
         "name": "nome",
         "rawType": "object",
         "type": "string"
        }
       ],
       "conversionMethod": "pd.DataFrame",
       "ref": "63ef26d3-faad-4f23-841b-0513b22dd0a5",
       "rows": [],
       "shape": {
        "columns": 2,
        "rows": 0
       }
      },
      "text/html": [
       "<div>\n",
       "<style scoped>\n",
       "    .dataframe tbody tr th:only-of-type {\n",
       "        vertical-align: middle;\n",
       "    }\n",
       "\n",
       "    .dataframe tbody tr th {\n",
       "        vertical-align: top;\n",
       "    }\n",
       "\n",
       "    .dataframe thead th {\n",
       "        text-align: right;\n",
       "    }\n",
       "</style>\n",
       "<table border=\"1\" class=\"dataframe\">\n",
       "  <thead>\n",
       "    <tr style=\"text-align: right;\">\n",
       "      <th></th>\n",
       "      <th>id_cliente</th>\n",
       "      <th>nome</th>\n",
       "    </tr>\n",
       "  </thead>\n",
       "  <tbody>\n",
       "  </tbody>\n",
       "</table>\n",
       "</div>"
      ],
      "text/plain": [
       "Empty DataFrame\n",
       "Columns: [id_cliente, nome]\n",
       "Index: []"
      ]
     },
     "execution_count": 32,
     "metadata": {},
     "output_type": "execute_result"
    }
   ],
   "source": [
    "query = '''\n",
    "SELECT DISTINCT c.id_cliente, c.nome\n",
    "FROM visualizacao_video vv\n",
    "JOIN cliente c ON vv.id_cliente = c.id_cliente\n",
    "WHERE c.id_cliente NOT IN (\n",
    "    SELECT id_cliente FROM sac\n",
    ")\n",
    "'''\n",
    "\n",
    "df_clientes_sem_sac = pd.read_sql_query(query, conn)\n",
    "df_clientes_sem_sac\n"
   ]
  },
  {
   "cell_type": "code",
   "execution_count": 33,
   "id": "a30fc8bc",
   "metadata": {},
   "outputs": [
    {
     "data": {
      "application/vnd.microsoft.datawrangler.viewer.v0+json": {
       "columns": [
        {
         "name": "index",
         "rawType": "int64",
         "type": "integer"
        },
        {
         "name": "id_visualizacao",
         "rawType": "int64",
         "type": "integer"
        },
        {
         "name": "id_video",
         "rawType": "int64",
         "type": "integer"
        },
        {
         "name": "id_cliente",
         "rawType": "float64",
         "type": "float"
        },
        {
         "name": "nome_cliente",
         "rawType": "object",
         "type": "unknown"
        }
       ],
       "conversionMethod": "pd.DataFrame",
       "ref": "99d19fd9-0e48-408f-a15b-08f683d3049e",
       "rows": [
        [
         "0",
         "1",
         "1",
         "1.0",
         "Alice Silva"
        ],
        [
         "1",
         "2",
         "2",
         "2.0",
         "Bruno Souza"
        ],
        [
         "2",
         "3",
         "1",
         null,
         null
        ]
       ],
       "shape": {
        "columns": 4,
        "rows": 3
       }
      },
      "text/html": [
       "<div>\n",
       "<style scoped>\n",
       "    .dataframe tbody tr th:only-of-type {\n",
       "        vertical-align: middle;\n",
       "    }\n",
       "\n",
       "    .dataframe tbody tr th {\n",
       "        vertical-align: top;\n",
       "    }\n",
       "\n",
       "    .dataframe thead th {\n",
       "        text-align: right;\n",
       "    }\n",
       "</style>\n",
       "<table border=\"1\" class=\"dataframe\">\n",
       "  <thead>\n",
       "    <tr style=\"text-align: right;\">\n",
       "      <th></th>\n",
       "      <th>id_visualizacao</th>\n",
       "      <th>id_video</th>\n",
       "      <th>id_cliente</th>\n",
       "      <th>nome_cliente</th>\n",
       "    </tr>\n",
       "  </thead>\n",
       "  <tbody>\n",
       "    <tr>\n",
       "      <th>0</th>\n",
       "      <td>1</td>\n",
       "      <td>1</td>\n",
       "      <td>1.0</td>\n",
       "      <td>Alice Silva</td>\n",
       "    </tr>\n",
       "    <tr>\n",
       "      <th>1</th>\n",
       "      <td>2</td>\n",
       "      <td>2</td>\n",
       "      <td>2.0</td>\n",
       "      <td>Bruno Souza</td>\n",
       "    </tr>\n",
       "    <tr>\n",
       "      <th>2</th>\n",
       "      <td>3</td>\n",
       "      <td>1</td>\n",
       "      <td>NaN</td>\n",
       "      <td>None</td>\n",
       "    </tr>\n",
       "  </tbody>\n",
       "</table>\n",
       "</div>"
      ],
      "text/plain": [
       "   id_visualizacao  id_video  id_cliente nome_cliente\n",
       "0                1         1         1.0  Alice Silva\n",
       "1                2         2         2.0  Bruno Souza\n",
       "2                3         1         NaN         None"
      ]
     },
     "execution_count": 33,
     "metadata": {},
     "output_type": "execute_result"
    }
   ],
   "source": [
    "query = '''\n",
    "SELECT vv.id_visualizacao, vv.id_video, vv.id_cliente, c.nome AS nome_cliente\n",
    "FROM visualizacao_video vv\n",
    "LEFT JOIN cliente c ON vv.id_cliente = c.id_cliente\n",
    "'''\n",
    "\n",
    "df_visualizacoes = pd.read_sql_query(query, conn)\n",
    "df_visualizacoes\n"
   ]
  },
  {
   "cell_type": "markdown",
   "id": "9a88ffee",
   "metadata": {},
   "source": [
    "query = '''\n",
    "SELECT DISTINCT c.id_cliente, c.nome\n",
    "FROM visualizacao_video vv\n",
    "JOIN cliente c ON vv.id_cliente = c.id_cliente\n",
    "WHERE c.id_cliente NOT IN (\n",
    "    SELECT id_cliente FROM sac\n",
    ")\n",
    "'''\n",
    "\n",
    "df_clientes_sem_sac = pd.read_sql_query(query, conn)\n",
    "df_clientes_sem_sac\n"
   ]
  },
  {
   "cell_type": "code",
   "execution_count": 34,
   "id": "4e70b65e",
   "metadata": {},
   "outputs": [
    {
     "name": "stdout",
     "output_type": "stream",
     "text": [
      "✅ Cliente inserido com sucesso.\n"
     ]
    }
   ],
   "source": [
    "# Reconectar ao banco de dados SQLite\n",
    "conn = sqlite3.connect('melhores_compras.db')\n",
    "cursor = conn.cursor()\n",
    "\n",
    "# Inserir cliente\n",
    "cursor.execute('''\n",
    "INSERT INTO cliente (nome, email, telefone)\n",
    "VALUES (?, ?, ?)\n",
    "''', ('Carla Mendes', 'carla.nova@example.com', '(31)98888-7766'))\n",
    "\n",
    "conn.commit()\n",
    "\n",
    "print(\"✅ Cliente inserido com sucesso.\")\n"
   ]
  },
  {
   "cell_type": "code",
   "execution_count": 35,
   "id": "92a902ae",
   "metadata": {},
   "outputs": [
    {
     "data": {
      "application/vnd.microsoft.datawrangler.viewer.v0+json": {
       "columns": [
        {
         "name": "index",
         "rawType": "int64",
         "type": "integer"
        },
        {
         "name": "id_cliente",
         "rawType": "int64",
         "type": "integer"
        },
        {
         "name": "nome",
         "rawType": "object",
         "type": "string"
        },
        {
         "name": "email",
         "rawType": "object",
         "type": "string"
        }
       ],
       "conversionMethod": "pd.DataFrame",
       "ref": "1ac90114-3f50-4c13-9653-699ea6bad5f8",
       "rows": [
        [
         "0",
         "1",
         "Alice Silva",
         "alice.silva@example.com"
        ],
        [
         "1",
         "2",
         "Bruno Souza",
         "bruno.souza@example.com"
        ],
        [
         "2",
         "3",
         "Carla Mendes",
         "carla.mendes@example.com"
        ],
        [
         "3",
         "4",
         "Carla Mendes",
         "carla.nova@example.com"
        ]
       ],
       "shape": {
        "columns": 3,
        "rows": 4
       }
      },
      "text/html": [
       "<div>\n",
       "<style scoped>\n",
       "    .dataframe tbody tr th:only-of-type {\n",
       "        vertical-align: middle;\n",
       "    }\n",
       "\n",
       "    .dataframe tbody tr th {\n",
       "        vertical-align: top;\n",
       "    }\n",
       "\n",
       "    .dataframe thead th {\n",
       "        text-align: right;\n",
       "    }\n",
       "</style>\n",
       "<table border=\"1\" class=\"dataframe\">\n",
       "  <thead>\n",
       "    <tr style=\"text-align: right;\">\n",
       "      <th></th>\n",
       "      <th>id_cliente</th>\n",
       "      <th>nome</th>\n",
       "      <th>email</th>\n",
       "    </tr>\n",
       "  </thead>\n",
       "  <tbody>\n",
       "    <tr>\n",
       "      <th>0</th>\n",
       "      <td>1</td>\n",
       "      <td>Alice Silva</td>\n",
       "      <td>alice.silva@example.com</td>\n",
       "    </tr>\n",
       "    <tr>\n",
       "      <th>1</th>\n",
       "      <td>2</td>\n",
       "      <td>Bruno Souza</td>\n",
       "      <td>bruno.souza@example.com</td>\n",
       "    </tr>\n",
       "    <tr>\n",
       "      <th>2</th>\n",
       "      <td>3</td>\n",
       "      <td>Carla Mendes</td>\n",
       "      <td>carla.mendes@example.com</td>\n",
       "    </tr>\n",
       "    <tr>\n",
       "      <th>3</th>\n",
       "      <td>4</td>\n",
       "      <td>Carla Mendes</td>\n",
       "      <td>carla.nova@example.com</td>\n",
       "    </tr>\n",
       "  </tbody>\n",
       "</table>\n",
       "</div>"
      ],
      "text/plain": [
       "   id_cliente          nome                     email\n",
       "0           1   Alice Silva   alice.silva@example.com\n",
       "1           2   Bruno Souza   bruno.souza@example.com\n",
       "2           3  Carla Mendes  carla.mendes@example.com\n",
       "3           4  Carla Mendes    carla.nova@example.com"
      ]
     },
     "execution_count": 35,
     "metadata": {},
     "output_type": "execute_result"
    }
   ],
   "source": [
    "df_clientes = pd.read_sql_query(\"SELECT id_cliente, nome, email FROM cliente\", conn)\n",
    "df_clientes\n"
   ]
  },
  {
   "cell_type": "code",
   "execution_count": 36,
   "id": "9ce5de70",
   "metadata": {},
   "outputs": [],
   "source": [
    "cursor.execute(\"DELETE FROM cliente WHERE email = 'carla.mendes@example.com'\")\n",
    "conn.commit()\n"
   ]
  },
  {
   "cell_type": "markdown",
   "id": "b5e58df2",
   "metadata": {},
   "source": [
    " Inserção segura de cliente (evita duplicação)"
   ]
  },
  {
   "cell_type": "code",
   "execution_count": 37,
   "id": "4f7d3dd9",
   "metadata": {},
   "outputs": [],
   "source": [
    "def inserir_cliente_unico(nome, email, telefone, conn):\n",
    "    cursor = conn.cursor()\n",
    "    \n",
    "    # Verifica se o cliente já existe\n",
    "    cursor.execute('SELECT id_cliente FROM cliente WHERE email = ?', (email,))\n",
    "    resultado = cursor.fetchone()\n",
    "    \n",
    "    if resultado:\n",
    "        print(f\"⚠️ Cliente já existe: {email}\")\n",
    "        id_cliente = resultado[0]\n",
    "    else:\n",
    "        cursor.execute('''\n",
    "            INSERT INTO cliente (nome, email, telefone)\n",
    "            VALUES (?, ?, ?)\n",
    "        ''', (nome, email, telefone))\n",
    "        conn.commit()\n",
    "        id_cliente = cursor.lastrowid\n",
    "        print(f\"✅ Novo cliente inserido: {nome} (ID: {id_cliente})\")\n",
    "    \n",
    "    return id_cliente\n"
   ]
  },
  {
   "cell_type": "code",
   "execution_count": 38,
   "id": "d8bc9fa4",
   "metadata": {},
   "outputs": [
    {
     "name": "stdout",
     "output_type": "stream",
     "text": [
      "✅ Novo cliente inserido: Carla Mendes (ID: 5)\n",
      "🆔 ID da Carla: 5\n"
     ]
    }
   ],
   "source": [
    "# Conectar ao banco se ainda não estiver conectado\n",
    "conn = sqlite3.connect('melhores_compras.db')\n",
    "\n",
    "# Inserir Carla (ou recuperar ID se já existir)\n",
    "id_carla = inserir_cliente_unico(\n",
    "    nome='Carla Mendes',\n",
    "    email='carla.mendes@example.com',\n",
    "    telefone='(31)98888-7766',\n",
    "    conn=conn\n",
    ")\n",
    "\n",
    "print(\"🆔 ID da Carla:\", id_carla)\n"
   ]
  },
  {
   "cell_type": "markdown",
   "id": "63314b54",
   "metadata": {},
   "source": [
    "## 📌 Visualizando chamados em aberto\n"
   ]
  },
  {
   "cell_type": "code",
   "execution_count": 39,
   "id": "de798e73",
   "metadata": {},
   "outputs": [
    {
     "data": {
      "application/vnd.microsoft.datawrangler.viewer.v0+json": {
       "columns": [
        {
         "name": "index",
         "rawType": "int64",
         "type": "integer"
        },
        {
         "name": "id_sac",
         "rawType": "int64",
         "type": "integer"
        },
        {
         "name": "id_cliente",
         "rawType": "int64",
         "type": "integer"
        },
        {
         "name": "id_produto",
         "rawType": "int64",
         "type": "integer"
        },
        {
         "name": "id_funcionario",
         "rawType": "int64",
         "type": "integer"
        },
        {
         "name": "data_hora_abertura",
         "rawType": "object",
         "type": "string"
        },
        {
         "name": "status_chamado",
         "rawType": "object",
         "type": "string"
        }
       ],
       "conversionMethod": "pd.DataFrame",
       "ref": "d88e946c-ee05-4126-ac15-c18c38b5815b",
       "rows": [
        [
         "0",
         "1",
         "1",
         "1",
         "1",
         "2025-04-21 12:40:30.430184",
         "A"
        ]
       ],
       "shape": {
        "columns": 6,
        "rows": 1
       }
      },
      "text/html": [
       "<div>\n",
       "<style scoped>\n",
       "    .dataframe tbody tr th:only-of-type {\n",
       "        vertical-align: middle;\n",
       "    }\n",
       "\n",
       "    .dataframe tbody tr th {\n",
       "        vertical-align: top;\n",
       "    }\n",
       "\n",
       "    .dataframe thead th {\n",
       "        text-align: right;\n",
       "    }\n",
       "</style>\n",
       "<table border=\"1\" class=\"dataframe\">\n",
       "  <thead>\n",
       "    <tr style=\"text-align: right;\">\n",
       "      <th></th>\n",
       "      <th>id_sac</th>\n",
       "      <th>id_cliente</th>\n",
       "      <th>id_produto</th>\n",
       "      <th>id_funcionario</th>\n",
       "      <th>data_hora_abertura</th>\n",
       "      <th>status_chamado</th>\n",
       "    </tr>\n",
       "  </thead>\n",
       "  <tbody>\n",
       "    <tr>\n",
       "      <th>0</th>\n",
       "      <td>1</td>\n",
       "      <td>1</td>\n",
       "      <td>1</td>\n",
       "      <td>1</td>\n",
       "      <td>2025-04-21 12:40:30.430184</td>\n",
       "      <td>A</td>\n",
       "    </tr>\n",
       "  </tbody>\n",
       "</table>\n",
       "</div>"
      ],
      "text/plain": [
       "   id_sac  id_cliente  id_produto  id_funcionario          data_hora_abertura  \\\n",
       "0       1           1           1               1  2025-04-21 12:40:30.430184   \n",
       "\n",
       "  status_chamado  \n",
       "0              A  "
      ]
     },
     "execution_count": 39,
     "metadata": {},
     "output_type": "execute_result"
    }
   ],
   "source": [
    "import pandas as pd\n",
    "\n",
    "query = '''\n",
    "SELECT id_sac, id_cliente, id_produto, id_funcionario, data_hora_abertura, status_chamado\n",
    "FROM sac\n",
    "WHERE status_chamado = 'A'\n",
    "'''\n",
    "\n",
    "df_chamados_abertos = pd.read_sql_query(query, conn)\n",
    "df_chamados_abertos\n"
   ]
  },
  {
   "cell_type": "markdown",
   "id": "4be14c83",
   "metadata": {},
   "source": [
    "## 📌 Iniciando atendimento ao chamado (status = 'E')\n"
   ]
  },
  {
   "cell_type": "code",
   "execution_count": 40,
   "id": "92d75948",
   "metadata": {},
   "outputs": [
    {
     "name": "stdout",
     "output_type": "stream",
     "text": [
      "✅ Chamado 1 em atendimento iniciado às 2025-04-21 12:40:30.\n"
     ]
    }
   ],
   "source": [
    "from datetime import datetime\n",
    "\n",
    "id_chamado = 1  # substitua pelo ID real de um chamado em aberto\n",
    "\n",
    "data_atendimento = datetime.now().strftime('%Y-%m-%d %H:%M:%S')\n",
    "\n",
    "cursor.execute('''\n",
    "UPDATE sac\n",
    "SET status_chamado = 'E',\n",
    "    data_hora_atendimento = ?\n",
    "WHERE id_sac = ?\n",
    "''', (data_atendimento, id_chamado))\n",
    "\n",
    "conn.commit()\n",
    "print(f\"✅ Chamado {id_chamado} em atendimento iniciado às {data_atendimento}.\")\n"
   ]
  },
  {
   "cell_type": "markdown",
   "id": "4df719fb",
   "metadata": {},
   "source": [
    "## 📌 Finalizando atendimento do chamado\n"
   ]
  },
  {
   "cell_type": "code",
   "execution_count": 41,
   "id": "51061714",
   "metadata": {},
   "outputs": [
    {
     "name": "stdout",
     "output_type": "stream",
     "text": [
      "✅ Chamado 1 finalizado com sucesso (status: F).\n"
     ]
    }
   ],
   "source": [
    "# Simulando tempo total em minutos\n",
    "tempo_total = 45\n",
    "indice_satisfacao = 85  # entre 1 e 100\n",
    "status_final = 'F'  # ou 'X' para insatisfação\n",
    "\n",
    "cursor.execute('''\n",
    "UPDATE sac\n",
    "SET status_chamado = ?, \n",
    "    tempo_total_atendimento = ?, \n",
    "    indice_satisfacao = ?\n",
    "WHERE id_sac = ?\n",
    "''', (status_final, tempo_total, indice_satisfacao, id_chamado))\n",
    "\n",
    "conn.commit()\n",
    "print(f\"✅ Chamado {id_chamado} finalizado com sucesso (status: {status_final}).\")\n"
   ]
  },
  {
   "cell_type": "markdown",
   "id": "aac7c2e4",
   "metadata": {},
   "source": [
    "## 📌 Conferindo status atualizado do chamado\n"
   ]
  },
  {
   "cell_type": "code",
   "execution_count": 42,
   "id": "5abcc388",
   "metadata": {},
   "outputs": [
    {
     "data": {
      "application/vnd.microsoft.datawrangler.viewer.v0+json": {
       "columns": [
        {
         "name": "index",
         "rawType": "int64",
         "type": "integer"
        },
        {
         "name": "id_sac",
         "rawType": "int64",
         "type": "integer"
        },
        {
         "name": "id_cliente",
         "rawType": "int64",
         "type": "integer"
        },
        {
         "name": "id_produto",
         "rawType": "int64",
         "type": "integer"
        },
        {
         "name": "id_funcionario",
         "rawType": "int64",
         "type": "integer"
        },
        {
         "name": "data_hora_abertura",
         "rawType": "object",
         "type": "string"
        },
        {
         "name": "data_hora_atendimento",
         "rawType": "object",
         "type": "unknown"
        },
        {
         "name": "tempo_total_atendimento",
         "rawType": "object",
         "type": "unknown"
        },
        {
         "name": "status_chamado",
         "rawType": "object",
         "type": "string"
        },
        {
         "name": "tipo_chamado",
         "rawType": "object",
         "type": "string"
        },
        {
         "name": "indice_satisfacao",
         "rawType": "object",
         "type": "unknown"
        },
        {
         "name": "descricao_chamado",
         "rawType": "object",
         "type": "string"
        }
       ],
       "conversionMethod": "pd.DataFrame",
       "ref": "096bf035-142a-45a6-8a10-11576094a8c8",
       "rows": [
        [
         "0",
         "1",
         "1",
         "1",
         "1",
         "2025-04-21 12:40:30.430184",
         null,
         null,
         "A",
         "2",
         null,
         "Problema na câmera do Smartphone XYZ"
        ]
       ],
       "shape": {
        "columns": 11,
        "rows": 1
       }
      },
      "text/html": [
       "<div>\n",
       "<style scoped>\n",
       "    .dataframe tbody tr th:only-of-type {\n",
       "        vertical-align: middle;\n",
       "    }\n",
       "\n",
       "    .dataframe tbody tr th {\n",
       "        vertical-align: top;\n",
       "    }\n",
       "\n",
       "    .dataframe thead th {\n",
       "        text-align: right;\n",
       "    }\n",
       "</style>\n",
       "<table border=\"1\" class=\"dataframe\">\n",
       "  <thead>\n",
       "    <tr style=\"text-align: right;\">\n",
       "      <th></th>\n",
       "      <th>id_sac</th>\n",
       "      <th>id_cliente</th>\n",
       "      <th>id_produto</th>\n",
       "      <th>id_funcionario</th>\n",
       "      <th>data_hora_abertura</th>\n",
       "      <th>data_hora_atendimento</th>\n",
       "      <th>tempo_total_atendimento</th>\n",
       "      <th>status_chamado</th>\n",
       "      <th>tipo_chamado</th>\n",
       "      <th>indice_satisfacao</th>\n",
       "      <th>descricao_chamado</th>\n",
       "    </tr>\n",
       "  </thead>\n",
       "  <tbody>\n",
       "    <tr>\n",
       "      <th>0</th>\n",
       "      <td>1</td>\n",
       "      <td>1</td>\n",
       "      <td>1</td>\n",
       "      <td>1</td>\n",
       "      <td>2025-04-21 12:40:30.430184</td>\n",
       "      <td>None</td>\n",
       "      <td>None</td>\n",
       "      <td>A</td>\n",
       "      <td>2</td>\n",
       "      <td>None</td>\n",
       "      <td>Problema na câmera do Smartphone XYZ</td>\n",
       "    </tr>\n",
       "  </tbody>\n",
       "</table>\n",
       "</div>"
      ],
      "text/plain": [
       "   id_sac  id_cliente  id_produto  id_funcionario          data_hora_abertura  \\\n",
       "0       1           1           1               1  2025-04-21 12:40:30.430184   \n",
       "\n",
       "  data_hora_atendimento tempo_total_atendimento status_chamado tipo_chamado  \\\n",
       "0                  None                    None              A            2   \n",
       "\n",
       "  indice_satisfacao                     descricao_chamado  \n",
       "0              None  Problema na câmera do Smartphone XYZ  "
      ]
     },
     "execution_count": 42,
     "metadata": {},
     "output_type": "execute_result"
    }
   ],
   "source": [
    "df_chamado_finalizado = pd.read_sql_query(\n",
    "    f\"SELECT * FROM sac WHERE id_sac = {id_chamado}\", conn\n",
    ")\n",
    "df_chamado_finalizado\n"
   ]
  },
  {
   "cell_type": "markdown",
   "id": "f170a48f",
   "metadata": {},
   "source": [
    "## 📌 Relatório de desempenho dos funcionários no SAC\n"
   ]
  },
  {
   "cell_type": "code",
   "execution_count": 43,
   "id": "b374aa6e",
   "metadata": {},
   "outputs": [
    {
     "data": {
      "application/vnd.microsoft.datawrangler.viewer.v0+json": {
       "columns": [
        {
         "name": "index",
         "rawType": "int64",
         "type": "integer"
        },
        {
         "name": "funcionario",
         "rawType": "object",
         "type": "string"
        },
        {
         "name": "total_chamados",
         "rawType": "int64",
         "type": "integer"
        },
        {
         "name": "tempo_medio",
         "rawType": "float64",
         "type": "float"
        },
        {
         "name": "satisfacao_media",
         "rawType": "float64",
         "type": "float"
        }
       ],
       "conversionMethod": "pd.DataFrame",
       "ref": "988af500-9f8a-4932-b6c5-b22dacb3fdeb",
       "rows": [
        [
         "0",
         "Maria Gomes",
         "1",
         "30.0",
         "90.0"
        ]
       ],
       "shape": {
        "columns": 4,
        "rows": 1
       }
      },
      "text/html": [
       "<div>\n",
       "<style scoped>\n",
       "    .dataframe tbody tr th:only-of-type {\n",
       "        vertical-align: middle;\n",
       "    }\n",
       "\n",
       "    .dataframe tbody tr th {\n",
       "        vertical-align: top;\n",
       "    }\n",
       "\n",
       "    .dataframe thead th {\n",
       "        text-align: right;\n",
       "    }\n",
       "</style>\n",
       "<table border=\"1\" class=\"dataframe\">\n",
       "  <thead>\n",
       "    <tr style=\"text-align: right;\">\n",
       "      <th></th>\n",
       "      <th>funcionario</th>\n",
       "      <th>total_chamados</th>\n",
       "      <th>tempo_medio</th>\n",
       "      <th>satisfacao_media</th>\n",
       "    </tr>\n",
       "  </thead>\n",
       "  <tbody>\n",
       "    <tr>\n",
       "      <th>0</th>\n",
       "      <td>Maria Gomes</td>\n",
       "      <td>1</td>\n",
       "      <td>30.0</td>\n",
       "      <td>90.0</td>\n",
       "    </tr>\n",
       "  </tbody>\n",
       "</table>\n",
       "</div>"
      ],
      "text/plain": [
       "   funcionario  total_chamados  tempo_medio  satisfacao_media\n",
       "0  Maria Gomes               1         30.0              90.0"
      ]
     },
     "execution_count": 43,
     "metadata": {},
     "output_type": "execute_result"
    }
   ],
   "source": [
    "query = '''\n",
    "SELECT f.nome AS funcionario,\n",
    "       COUNT(s.id_sac) AS total_chamados,\n",
    "       AVG(s.tempo_total_atendimento) AS tempo_medio,\n",
    "       AVG(s.indice_satisfacao) AS satisfacao_media\n",
    "FROM sac s\n",
    "JOIN funcionario f ON s.id_funcionario = f.id_funcionario\n",
    "WHERE s.status_chamado IN ('F','X')\n",
    "GROUP BY f.nome\n",
    "'''\n",
    "\n",
    "df_relatorio = pd.read_sql_query(query, conn)\n",
    "df_relatorio\n"
   ]
  },
  {
   "cell_type": "markdown",
   "id": "7dbc855a",
   "metadata": {},
   "source": [
    "## 📊 Gráfico: Distribuição de chamados por status\n"
   ]
  },
  {
   "cell_type": "code",
   "execution_count": 44,
   "id": "3edbe5db",
   "metadata": {},
   "outputs": [
    {
     "data": {
      "application/vnd.plotly.v1+json": {
       "config": {
        "plotlyServerURL": "https://plot.ly"
       },
       "data": [
        {
         "domain": {
          "x": [
           0,
           1
          ],
          "y": [
           0,
           1
          ]
         },
         "hole": 0.4,
         "hovertemplate": "status_chamado=%{label}<br>total=%{value}<extra></extra>",
         "labels": [
          "A",
          "F"
         ],
         "legendgroup": "",
         "name": "",
         "showlegend": true,
         "type": "pie",
         "values": {
          "bdata": "AQE=",
          "dtype": "i1"
         }
        }
       ],
       "layout": {
        "legend": {
         "tracegroupgap": 0
        },
        "template": {
         "data": {
          "bar": [
           {
            "error_x": {
             "color": "#2a3f5f"
            },
            "error_y": {
             "color": "#2a3f5f"
            },
            "marker": {
             "line": {
              "color": "#E5ECF6",
              "width": 0.5
             },
             "pattern": {
              "fillmode": "overlay",
              "size": 10,
              "solidity": 0.2
             }
            },
            "type": "bar"
           }
          ],
          "barpolar": [
           {
            "marker": {
             "line": {
              "color": "#E5ECF6",
              "width": 0.5
             },
             "pattern": {
              "fillmode": "overlay",
              "size": 10,
              "solidity": 0.2
             }
            },
            "type": "barpolar"
           }
          ],
          "carpet": [
           {
            "aaxis": {
             "endlinecolor": "#2a3f5f",
             "gridcolor": "white",
             "linecolor": "white",
             "minorgridcolor": "white",
             "startlinecolor": "#2a3f5f"
            },
            "baxis": {
             "endlinecolor": "#2a3f5f",
             "gridcolor": "white",
             "linecolor": "white",
             "minorgridcolor": "white",
             "startlinecolor": "#2a3f5f"
            },
            "type": "carpet"
           }
          ],
          "choropleth": [
           {
            "colorbar": {
             "outlinewidth": 0,
             "ticks": ""
            },
            "type": "choropleth"
           }
          ],
          "contour": [
           {
            "colorbar": {
             "outlinewidth": 0,
             "ticks": ""
            },
            "colorscale": [
             [
              0,
              "#0d0887"
             ],
             [
              0.1111111111111111,
              "#46039f"
             ],
             [
              0.2222222222222222,
              "#7201a8"
             ],
             [
              0.3333333333333333,
              "#9c179e"
             ],
             [
              0.4444444444444444,
              "#bd3786"
             ],
             [
              0.5555555555555556,
              "#d8576b"
             ],
             [
              0.6666666666666666,
              "#ed7953"
             ],
             [
              0.7777777777777778,
              "#fb9f3a"
             ],
             [
              0.8888888888888888,
              "#fdca26"
             ],
             [
              1,
              "#f0f921"
             ]
            ],
            "type": "contour"
           }
          ],
          "contourcarpet": [
           {
            "colorbar": {
             "outlinewidth": 0,
             "ticks": ""
            },
            "type": "contourcarpet"
           }
          ],
          "heatmap": [
           {
            "colorbar": {
             "outlinewidth": 0,
             "ticks": ""
            },
            "colorscale": [
             [
              0,
              "#0d0887"
             ],
             [
              0.1111111111111111,
              "#46039f"
             ],
             [
              0.2222222222222222,
              "#7201a8"
             ],
             [
              0.3333333333333333,
              "#9c179e"
             ],
             [
              0.4444444444444444,
              "#bd3786"
             ],
             [
              0.5555555555555556,
              "#d8576b"
             ],
             [
              0.6666666666666666,
              "#ed7953"
             ],
             [
              0.7777777777777778,
              "#fb9f3a"
             ],
             [
              0.8888888888888888,
              "#fdca26"
             ],
             [
              1,
              "#f0f921"
             ]
            ],
            "type": "heatmap"
           }
          ],
          "histogram": [
           {
            "marker": {
             "pattern": {
              "fillmode": "overlay",
              "size": 10,
              "solidity": 0.2
             }
            },
            "type": "histogram"
           }
          ],
          "histogram2d": [
           {
            "colorbar": {
             "outlinewidth": 0,
             "ticks": ""
            },
            "colorscale": [
             [
              0,
              "#0d0887"
             ],
             [
              0.1111111111111111,
              "#46039f"
             ],
             [
              0.2222222222222222,
              "#7201a8"
             ],
             [
              0.3333333333333333,
              "#9c179e"
             ],
             [
              0.4444444444444444,
              "#bd3786"
             ],
             [
              0.5555555555555556,
              "#d8576b"
             ],
             [
              0.6666666666666666,
              "#ed7953"
             ],
             [
              0.7777777777777778,
              "#fb9f3a"
             ],
             [
              0.8888888888888888,
              "#fdca26"
             ],
             [
              1,
              "#f0f921"
             ]
            ],
            "type": "histogram2d"
           }
          ],
          "histogram2dcontour": [
           {
            "colorbar": {
             "outlinewidth": 0,
             "ticks": ""
            },
            "colorscale": [
             [
              0,
              "#0d0887"
             ],
             [
              0.1111111111111111,
              "#46039f"
             ],
             [
              0.2222222222222222,
              "#7201a8"
             ],
             [
              0.3333333333333333,
              "#9c179e"
             ],
             [
              0.4444444444444444,
              "#bd3786"
             ],
             [
              0.5555555555555556,
              "#d8576b"
             ],
             [
              0.6666666666666666,
              "#ed7953"
             ],
             [
              0.7777777777777778,
              "#fb9f3a"
             ],
             [
              0.8888888888888888,
              "#fdca26"
             ],
             [
              1,
              "#f0f921"
             ]
            ],
            "type": "histogram2dcontour"
           }
          ],
          "mesh3d": [
           {
            "colorbar": {
             "outlinewidth": 0,
             "ticks": ""
            },
            "type": "mesh3d"
           }
          ],
          "parcoords": [
           {
            "line": {
             "colorbar": {
              "outlinewidth": 0,
              "ticks": ""
             }
            },
            "type": "parcoords"
           }
          ],
          "pie": [
           {
            "automargin": true,
            "type": "pie"
           }
          ],
          "scatter": [
           {
            "fillpattern": {
             "fillmode": "overlay",
             "size": 10,
             "solidity": 0.2
            },
            "type": "scatter"
           }
          ],
          "scatter3d": [
           {
            "line": {
             "colorbar": {
              "outlinewidth": 0,
              "ticks": ""
             }
            },
            "marker": {
             "colorbar": {
              "outlinewidth": 0,
              "ticks": ""
             }
            },
            "type": "scatter3d"
           }
          ],
          "scattercarpet": [
           {
            "marker": {
             "colorbar": {
              "outlinewidth": 0,
              "ticks": ""
             }
            },
            "type": "scattercarpet"
           }
          ],
          "scattergeo": [
           {
            "marker": {
             "colorbar": {
              "outlinewidth": 0,
              "ticks": ""
             }
            },
            "type": "scattergeo"
           }
          ],
          "scattergl": [
           {
            "marker": {
             "colorbar": {
              "outlinewidth": 0,
              "ticks": ""
             }
            },
            "type": "scattergl"
           }
          ],
          "scattermap": [
           {
            "marker": {
             "colorbar": {
              "outlinewidth": 0,
              "ticks": ""
             }
            },
            "type": "scattermap"
           }
          ],
          "scattermapbox": [
           {
            "marker": {
             "colorbar": {
              "outlinewidth": 0,
              "ticks": ""
             }
            },
            "type": "scattermapbox"
           }
          ],
          "scatterpolar": [
           {
            "marker": {
             "colorbar": {
              "outlinewidth": 0,
              "ticks": ""
             }
            },
            "type": "scatterpolar"
           }
          ],
          "scatterpolargl": [
           {
            "marker": {
             "colorbar": {
              "outlinewidth": 0,
              "ticks": ""
             }
            },
            "type": "scatterpolargl"
           }
          ],
          "scatterternary": [
           {
            "marker": {
             "colorbar": {
              "outlinewidth": 0,
              "ticks": ""
             }
            },
            "type": "scatterternary"
           }
          ],
          "surface": [
           {
            "colorbar": {
             "outlinewidth": 0,
             "ticks": ""
            },
            "colorscale": [
             [
              0,
              "#0d0887"
             ],
             [
              0.1111111111111111,
              "#46039f"
             ],
             [
              0.2222222222222222,
              "#7201a8"
             ],
             [
              0.3333333333333333,
              "#9c179e"
             ],
             [
              0.4444444444444444,
              "#bd3786"
             ],
             [
              0.5555555555555556,
              "#d8576b"
             ],
             [
              0.6666666666666666,
              "#ed7953"
             ],
             [
              0.7777777777777778,
              "#fb9f3a"
             ],
             [
              0.8888888888888888,
              "#fdca26"
             ],
             [
              1,
              "#f0f921"
             ]
            ],
            "type": "surface"
           }
          ],
          "table": [
           {
            "cells": {
             "fill": {
              "color": "#EBF0F8"
             },
             "line": {
              "color": "white"
             }
            },
            "header": {
             "fill": {
              "color": "#C8D4E3"
             },
             "line": {
              "color": "white"
             }
            },
            "type": "table"
           }
          ]
         },
         "layout": {
          "annotationdefaults": {
           "arrowcolor": "#2a3f5f",
           "arrowhead": 0,
           "arrowwidth": 1
          },
          "autotypenumbers": "strict",
          "coloraxis": {
           "colorbar": {
            "outlinewidth": 0,
            "ticks": ""
           }
          },
          "colorscale": {
           "diverging": [
            [
             0,
             "#8e0152"
            ],
            [
             0.1,
             "#c51b7d"
            ],
            [
             0.2,
             "#de77ae"
            ],
            [
             0.3,
             "#f1b6da"
            ],
            [
             0.4,
             "#fde0ef"
            ],
            [
             0.5,
             "#f7f7f7"
            ],
            [
             0.6,
             "#e6f5d0"
            ],
            [
             0.7,
             "#b8e186"
            ],
            [
             0.8,
             "#7fbc41"
            ],
            [
             0.9,
             "#4d9221"
            ],
            [
             1,
             "#276419"
            ]
           ],
           "sequential": [
            [
             0,
             "#0d0887"
            ],
            [
             0.1111111111111111,
             "#46039f"
            ],
            [
             0.2222222222222222,
             "#7201a8"
            ],
            [
             0.3333333333333333,
             "#9c179e"
            ],
            [
             0.4444444444444444,
             "#bd3786"
            ],
            [
             0.5555555555555556,
             "#d8576b"
            ],
            [
             0.6666666666666666,
             "#ed7953"
            ],
            [
             0.7777777777777778,
             "#fb9f3a"
            ],
            [
             0.8888888888888888,
             "#fdca26"
            ],
            [
             1,
             "#f0f921"
            ]
           ],
           "sequentialminus": [
            [
             0,
             "#0d0887"
            ],
            [
             0.1111111111111111,
             "#46039f"
            ],
            [
             0.2222222222222222,
             "#7201a8"
            ],
            [
             0.3333333333333333,
             "#9c179e"
            ],
            [
             0.4444444444444444,
             "#bd3786"
            ],
            [
             0.5555555555555556,
             "#d8576b"
            ],
            [
             0.6666666666666666,
             "#ed7953"
            ],
            [
             0.7777777777777778,
             "#fb9f3a"
            ],
            [
             0.8888888888888888,
             "#fdca26"
            ],
            [
             1,
             "#f0f921"
            ]
           ]
          },
          "colorway": [
           "#636efa",
           "#EF553B",
           "#00cc96",
           "#ab63fa",
           "#FFA15A",
           "#19d3f3",
           "#FF6692",
           "#B6E880",
           "#FF97FF",
           "#FECB52"
          ],
          "font": {
           "color": "#2a3f5f"
          },
          "geo": {
           "bgcolor": "white",
           "lakecolor": "white",
           "landcolor": "#E5ECF6",
           "showlakes": true,
           "showland": true,
           "subunitcolor": "white"
          },
          "hoverlabel": {
           "align": "left"
          },
          "hovermode": "closest",
          "mapbox": {
           "style": "light"
          },
          "paper_bgcolor": "white",
          "plot_bgcolor": "#E5ECF6",
          "polar": {
           "angularaxis": {
            "gridcolor": "white",
            "linecolor": "white",
            "ticks": ""
           },
           "bgcolor": "#E5ECF6",
           "radialaxis": {
            "gridcolor": "white",
            "linecolor": "white",
            "ticks": ""
           }
          },
          "scene": {
           "xaxis": {
            "backgroundcolor": "#E5ECF6",
            "gridcolor": "white",
            "gridwidth": 2,
            "linecolor": "white",
            "showbackground": true,
            "ticks": "",
            "zerolinecolor": "white"
           },
           "yaxis": {
            "backgroundcolor": "#E5ECF6",
            "gridcolor": "white",
            "gridwidth": 2,
            "linecolor": "white",
            "showbackground": true,
            "ticks": "",
            "zerolinecolor": "white"
           },
           "zaxis": {
            "backgroundcolor": "#E5ECF6",
            "gridcolor": "white",
            "gridwidth": 2,
            "linecolor": "white",
            "showbackground": true,
            "ticks": "",
            "zerolinecolor": "white"
           }
          },
          "shapedefaults": {
           "line": {
            "color": "#2a3f5f"
           }
          },
          "ternary": {
           "aaxis": {
            "gridcolor": "white",
            "linecolor": "white",
            "ticks": ""
           },
           "baxis": {
            "gridcolor": "white",
            "linecolor": "white",
            "ticks": ""
           },
           "bgcolor": "#E5ECF6",
           "caxis": {
            "gridcolor": "white",
            "linecolor": "white",
            "ticks": ""
           }
          },
          "title": {
           "x": 0.05
          },
          "xaxis": {
           "automargin": true,
           "gridcolor": "white",
           "linecolor": "white",
           "ticks": "",
           "title": {
            "standoff": 15
           },
           "zerolinecolor": "white",
           "zerolinewidth": 2
          },
          "yaxis": {
           "automargin": true,
           "gridcolor": "white",
           "linecolor": "white",
           "ticks": "",
           "title": {
            "standoff": 15
           },
           "zerolinecolor": "white",
           "zerolinewidth": 2
          }
         }
        },
        "title": {
         "text": "Distribuição dos chamados por status"
        }
       }
      }
     },
     "metadata": {},
     "output_type": "display_data"
    }
   ],
   "source": [
    "import plotly.express as px\n",
    "\n",
    "query = '''\n",
    "SELECT status_chamado, COUNT(*) AS total\n",
    "FROM sac\n",
    "GROUP BY status_chamado\n",
    "'''\n",
    "\n",
    "df_status = pd.read_sql_query(query, conn)\n",
    "\n",
    "fig = px.pie(df_status, names='status_chamado', values='total',\n",
    "             title='Distribuição dos chamados por status',\n",
    "             hole=0.4)\n",
    "fig.show()\n"
   ]
  },
  {
   "cell_type": "code",
   "execution_count": null,
   "id": "2ba90fc0",
   "metadata": {},
   "outputs": [],
   "source": []
  },
  {
   "cell_type": "markdown",
   "id": "79895d9f",
   "metadata": {},
   "source": [
    "### 🧾 Bloco 2 – Tabelas de Endereços e Clientes"
   ]
  },
  {
   "cell_type": "code",
   "execution_count": 45,
   "id": "42fca158",
   "metadata": {},
   "outputs": [
    {
     "name": "stdout",
     "output_type": "stream",
     "text": [
      "✅ Tabelas de endereço e clientes criadas com sucesso.\n"
     ]
    }
   ],
   "source": [
    "# Tabelas: cli_fisica, cli_juridica, end_cli\n",
    "cursor.execute(\"\"\"\n",
    "CREATE TABLE IF NOT EXISTS cli_fisica (\n",
    "    id_cliente INTEGER PRIMARY KEY,\n",
    "    cpf TEXT NOT NULL,\n",
    "    data_nascimento DATE,\n",
    "    FOREIGN KEY (id_cliente) REFERENCES cliente(id_cliente)\n",
    ");\n",
    "\"\"\")\n",
    "\n",
    "cursor.execute(\"\"\"\n",
    "CREATE TABLE IF NOT EXISTS cli_juridica (\n",
    "    id_cliente INTEGER PRIMARY KEY,\n",
    "    cnpj TEXT NOT NULL,\n",
    "    razao_social TEXT,\n",
    "    FOREIGN KEY (id_cliente) REFERENCES cliente(id_cliente)\n",
    ");\n",
    "\"\"\")\n",
    "\n",
    "cursor.execute(\"\"\"\n",
    "CREATE TABLE IF NOT EXISTS end_cli (\n",
    "    id_end_cli INTEGER PRIMARY KEY AUTOINCREMENT,\n",
    "    id_cliente INTEGER NOT NULL,\n",
    "    id_logradouro INTEGER NOT NULL,\n",
    "    numero TEXT,\n",
    "    complemento TEXT,\n",
    "    FOREIGN KEY (id_cliente) REFERENCES cliente(id_cliente),\n",
    "    FOREIGN KEY (id_logradouro) REFERENCES logradouro(id_logradouro)\n",
    ");\n",
    "\"\"\")\n",
    "\n",
    "conn.commit()\n",
    "print(\"✅ Tabelas de endereço e clientes criadas com sucesso.\")"
   ]
  },
  {
   "cell_type": "code",
   "execution_count": 46,
   "id": "32b6e732",
   "metadata": {},
   "outputs": [
    {
     "name": "stdout",
     "output_type": "stream",
     "text": [
      "Tabelas criadas neste notebook:\n",
      " - sqlite_sequence\n",
      " - produto\n",
      " - video_produto\n",
      " - cliente\n",
      " - funcionario\n",
      " - visualizacao_video\n",
      " - sac\n",
      " - auditoria_sac\n",
      " - depto\n",
      " - end_func\n",
      " - categoria\n",
      " - produto_video\n",
      " - imagem_produto\n",
      " - satisfacao\n"
     ]
    }
   ],
   "source": [
    "\n",
    "# 📋 Verificando tabelas criadas (evidência FIAP) no VS Code para nbconvert\n",
    "\n",
    "import sqlite3, os\n",
    "db_path = os.path.join(\"..\", \"data\", \"melhores_compras.db\")\n",
    "conn = sqlite3.connect(db_path)\n",
    "cursor = conn.cursor()\n",
    "\n",
    "cursor.execute(\"SELECT name FROM sqlite_master WHERE type='table';\")\n",
    "tabelas = cursor.fetchall()\n",
    "\n",
    "print(\"Tabelas criadas neste notebook:\")\n",
    "for t in tabelas:\n",
    "    print(\" -\", t[0])\n",
    "\n",
    "conn.close()\n"
   ]
  }
 ],
 "metadata": {
  "kernelspec": {
   "display_name": ".venvfiap",
   "language": "python",
   "name": "python3"
  },
  "language_info": {
   "codemirror_mode": {
    "name": "ipython",
    "version": 3
   },
   "file_extension": ".py",
   "mimetype": "text/x-python",
   "name": "python",
   "nbconvert_exporter": "python",
   "pygments_lexer": "ipython3",
   "version": "3.11.9"
  }
 },
 "nbformat": 4,
 "nbformat_minor": 5
}
