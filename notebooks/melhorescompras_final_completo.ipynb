{
 "cells": [
  {
   "cell_type": "markdown",
   "id": "634e0eaa",
   "metadata": {},
   "source": [
    "# 📘 Criação de Tabelas Faltantes no Projeto Melhores Compras\n",
    "Este notebook cria todas as tabelas faltantes conforme o modelo físico do banco de dados relacional apresentado."
   ]
  },
  {
   "cell_type": "code",
   "execution_count": 2,
   "id": "198e69ef",
   "metadata": {},
   "outputs": [
    {
     "name": "stdout",
     "output_type": "stream",
     "text": [
      "✅ Conectado ao banco de dados com sucesso.\n"
     ]
    }
   ],
   "source": [
    "import sqlite3\n",
    "import os\n",
    "\n",
    "# Caminho relativo do notebook até o banco\n",
    "db_path = os.path.join(\"..\", \"data\", \"melhores_compras.db\")\n",
    "\n",
    "conn = sqlite3.connect(db_path)\n",
    "cursor = conn.cursor()\n",
    "print(\"✅ Conectado ao banco de dados com sucesso.\")\n"
   ]
  },
  {
   "cell_type": "markdown",
   "id": "70dea210",
   "metadata": {},
   "source": [
    "## 🧾 Tabela: cliente"
   ]
  },
  {
   "cell_type": "code",
   "execution_count": 3,
   "id": "0e8b6a1f",
   "metadata": {},
   "outputs": [
    {
     "name": "stdout",
     "output_type": "stream",
     "text": [
      "✅ Tabela 'cliente' criada com sucesso.\n"
     ]
    }
   ],
   "source": [
    "cursor.execute(\"\"\"\n",
    "CREATE TABLE IF NOT EXISTS cliente (\n",
    "    id_cliente INTEGER PRIMARY KEY AUTOINCREMENT,\n",
    "    nome TEXT NOT NULL,\n",
    "    email TEXT UNIQUE NOT NULL,\n",
    "    telefone TEXT\n",
    ");\n",
    "\"\"\")\n",
    "conn.commit()\n",
    "print(\"✅ Tabela 'cliente' criada com sucesso.\")\n"
   ]
  },
  {
   "cell_type": "markdown",
   "id": "895f662f",
   "metadata": {},
   "source": [
    "## ✅ Verificação das tabelas existentes"
   ]
  },
  {
   "cell_type": "code",
   "execution_count": 4,
   "id": "9fd8aa36",
   "metadata": {},
   "outputs": [
    {
     "name": "stdout",
     "output_type": "stream",
     "text": [
      "Tabelas existentes no banco:\n",
      "- sqlite_sequence\n",
      "- produto\n",
      "- video_produto\n",
      "- cliente\n",
      "- funcionario\n",
      "- visualizacao_video\n",
      "- sac\n",
      "- auditoria_sac\n"
     ]
    }
   ],
   "source": [
    "cursor.execute(\"SELECT name FROM sqlite_master WHERE type='table';\")\n",
    "tabelas = cursor.fetchall()\n",
    "print(\"Tabelas existentes no banco:\")\n",
    "for t in tabelas:\n",
    "    print(\"-\", t[0])\n"
   ]
  },
  {
   "cell_type": "code",
   "execution_count": 5,
   "id": "63f061de",
   "metadata": {},
   "outputs": [
    {
     "name": "stdout",
     "output_type": "stream",
     "text": [
      "🔒 Conexão encerrada.\n"
     ]
    }
   ],
   "source": [
    "conn.close()\n",
    "print(\"🔒 Conexão encerrada.\")\n"
   ]
  }
 ],
 "metadata": {
  "kernelspec": {
   "display_name": ".venvfiap",
   "language": "python",
   "name": "python3"
  },
  "language_info": {
   "codemirror_mode": {
    "name": "ipython",
    "version": 3
   },
   "file_extension": ".py",
   "mimetype": "text/x-python",
   "name": "python",
   "nbconvert_exporter": "python",
   "pygments_lexer": "ipython3",
   "version": "3.11.9"
  }
 },
 "nbformat": 4,
 "nbformat_minor": 5
}
