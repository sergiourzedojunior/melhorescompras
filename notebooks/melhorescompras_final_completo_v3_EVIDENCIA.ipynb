{
 "cells": [
  {
   "cell_type": "markdown",
   "id": "17b2b8bb",
   "metadata": {},
   "source": [
    "# 📦 Bloco 3, 4 e 5 – Complemento de Tabelas SGV"
   ]
  },
  {
   "cell_type": "code",
   "execution_count": 1,
   "id": "fa4d7dba",
   "metadata": {
    "execution": {
     "iopub.execute_input": "2025-04-21T15:51:25.318343Z",
     "iopub.status.busy": "2025-04-21T15:51:25.317787Z",
     "iopub.status.idle": "2025-04-21T15:51:25.332621Z",
     "shell.execute_reply": "2025-04-21T15:51:25.331695Z"
    }
   },
   "outputs": [
    {
     "name": "stdout",
     "output_type": "stream",
     "text": [
      "✅ Conectado com sucesso ao banco de dados.\n"
     ]
    }
   ],
   "source": [
    "import sqlite3\n",
    "import os\n",
    "\n",
    "# Caminho relativo do notebook (notebooks/) até o banco (data/)\n",
    "db_path = os.path.join(\"..\", \"data\", \"melhores_compras.db\")\n",
    "\n",
    "# Conexão\n",
    "conn = sqlite3.connect(db_path)\n",
    "cursor = conn.cursor()\n",
    "print(\"✅ Conectado com sucesso ao banco de dados.\")\n"
   ]
  },
  {
   "cell_type": "markdown",
   "id": "2241cbd5",
   "metadata": {},
   "source": [
    "### 🏢 Bloco 3 – Funcionários e Estrutura Interna"
   ]
  },
  {
   "cell_type": "code",
   "execution_count": 2,
   "id": "05683b5a",
   "metadata": {
    "execution": {
     "iopub.execute_input": "2025-04-21T15:51:25.338171Z",
     "iopub.status.busy": "2025-04-21T15:51:25.337702Z",
     "iopub.status.idle": "2025-04-21T15:51:25.346039Z",
     "shell.execute_reply": "2025-04-21T15:51:25.345052Z"
    }
   },
   "outputs": [
    {
     "name": "stdout",
     "output_type": "stream",
     "text": [
      "✅ Bloco 3 criado com sucesso.\n"
     ]
    }
   ],
   "source": [
    "cursor.execute(\"\"\"\n",
    "CREATE TABLE IF NOT EXISTS depto (\n",
    "    id_depto INTEGER PRIMARY KEY AUTOINCREMENT,\n",
    "    nome_depto TEXT NOT NULL\n",
    ");\n",
    "\"\"\")\n",
    "\n",
    "cursor.execute(\"\"\"\n",
    "CREATE TABLE IF NOT EXISTS end_func (\n",
    "    id_end_func INTEGER PRIMARY KEY AUTOINCREMENT,\n",
    "    id_funcionario INTEGER,\n",
    "    id_logradouro INTEGER,\n",
    "    numero TEXT,\n",
    "    complemento TEXT,\n",
    "    FOREIGN KEY (id_funcionario) REFERENCES funcionario(id_funcionario),\n",
    "    FOREIGN KEY (id_logradouro) REFERENCES logradouro(id_logradouro)\n",
    ");\n",
    "\"\"\")\n",
    "conn.commit()\n",
    "print(\"✅ Bloco 3 criado com sucesso.\")"
   ]
  },
  {
   "cell_type": "markdown",
   "id": "7f891564",
   "metadata": {},
   "source": [
    "### 📦 Bloco 4 – Produtos e Categorias"
   ]
  },
  {
   "cell_type": "code",
   "execution_count": 3,
   "id": "1e0a49f2",
   "metadata": {
    "execution": {
     "iopub.execute_input": "2025-04-21T15:51:25.351077Z",
     "iopub.status.busy": "2025-04-21T15:51:25.350556Z",
     "iopub.status.idle": "2025-04-21T15:51:25.360240Z",
     "shell.execute_reply": "2025-04-21T15:51:25.359087Z"
    }
   },
   "outputs": [
    {
     "name": "stdout",
     "output_type": "stream",
     "text": [
      "✅ Bloco 4 criado com sucesso.\n"
     ]
    }
   ],
   "source": [
    "cursor.execute(\"\"\"\n",
    "CREATE TABLE IF NOT EXISTS categoria (\n",
    "    id_categoria INTEGER PRIMARY KEY AUTOINCREMENT,\n",
    "    nome_categoria TEXT NOT NULL\n",
    ");\n",
    "\"\"\")\n",
    "\n",
    "cursor.execute(\"\"\"\n",
    "CREATE TABLE IF NOT EXISTS produto_video (\n",
    "    id_produto_video INTEGER PRIMARY KEY AUTOINCREMENT,\n",
    "    id_produto INTEGER,\n",
    "    url_video TEXT,\n",
    "    descricao TEXT,\n",
    "    FOREIGN KEY (id_produto) REFERENCES produto(id_produto)\n",
    ");\n",
    "\"\"\")\n",
    "\n",
    "cursor.execute(\"\"\"\n",
    "CREATE TABLE IF NOT EXISTS imagem_produto (\n",
    "    id_imagem INTEGER PRIMARY KEY AUTOINCREMENT,\n",
    "    id_produto INTEGER,\n",
    "    url_imagem TEXT,\n",
    "    FOREIGN KEY (id_produto) REFERENCES produto(id_produto)\n",
    ");\n",
    "\"\"\")\n",
    "conn.commit()\n",
    "print(\"✅ Bloco 4 criado com sucesso.\")"
   ]
  },
  {
   "cell_type": "markdown",
   "id": "3b721634",
   "metadata": {},
   "source": [
    "### 💬 Bloco 5 – Interações"
   ]
  },
  {
   "cell_type": "code",
   "execution_count": 4,
   "id": "7442f399",
   "metadata": {
    "execution": {
     "iopub.execute_input": "2025-04-21T15:51:25.365482Z",
     "iopub.status.busy": "2025-04-21T15:51:25.364815Z",
     "iopub.status.idle": "2025-04-21T15:51:25.372270Z",
     "shell.execute_reply": "2025-04-21T15:51:25.371173Z"
    }
   },
   "outputs": [
    {
     "name": "stdout",
     "output_type": "stream",
     "text": [
      "✅ Bloco 5 criado com sucesso.\n"
     ]
    }
   ],
   "source": [
    "cursor.execute(\"\"\"\n",
    "CREATE TABLE IF NOT EXISTS satisfacao (\n",
    "    id_satisfacao INTEGER PRIMARY KEY AUTOINCREMENT,\n",
    "    id_sac INTEGER,\n",
    "    nota INTEGER,\n",
    "    comentario TEXT,\n",
    "    FOREIGN KEY (id_sac) REFERENCES sac(id_sac)\n",
    ");\n",
    "\"\"\")\n",
    "conn.commit()\n",
    "print(\"✅ Bloco 5 criado com sucesso.\")\n",
    "conn.close()"
   ]
  },
  {
   "cell_type": "code",
   "execution_count": 5,
   "id": "cdfa5899",
   "metadata": {
    "execution": {
     "iopub.execute_input": "2025-04-21T15:51:25.376670Z",
     "iopub.status.busy": "2025-04-21T15:51:25.376250Z",
     "iopub.status.idle": "2025-04-21T15:51:25.384872Z",
     "shell.execute_reply": "2025-04-21T15:51:25.384058Z"
    }
   },
   "outputs": [
    {
     "name": "stdout",
     "output_type": "stream",
     "text": [
      "Tabelas criadas neste notebook:\n",
      " - sqlite_sequence\n",
      " - produto\n",
      " - video_produto\n",
      " - cliente\n",
      " - funcionario\n",
      " - visualizacao_video\n",
      " - sac\n",
      " - auditoria_sac\n",
      " - depto\n",
      " - end_func\n",
      " - categoria\n",
      " - produto_video\n",
      " - imagem_produto\n",
      " - satisfacao\n"
     ]
    }
   ],
   "source": [
    "\n",
    "# 📋 Verificando tabelas criadas (evidência FIAP) no VS Code para nbconvert\n",
    "\n",
    "import sqlite3, os\n",
    "db_path = os.path.join(\"..\", \"data\", \"melhores_compras.db\")\n",
    "conn = sqlite3.connect(db_path)\n",
    "cursor = conn.cursor()\n",
    "\n",
    "cursor.execute(\"SELECT name FROM sqlite_master WHERE type='table';\")\n",
    "tabelas = cursor.fetchall()\n",
    "\n",
    "print(\"Tabelas criadas neste notebook:\")\n",
    "for t in tabelas:\n",
    "    print(\" -\", t[0])\n",
    "\n",
    "\n"
   ]
  },
  {
   "cell_type": "code",
   "execution_count": 6,
   "id": "b9956e7a",
   "metadata": {},
   "outputs": [
    {
     "name": "stdout",
     "output_type": "stream",
     "text": [
      "📦 Produtos:\n"
     ]
    },
    {
     "data": {
      "application/vnd.microsoft.datawrangler.viewer.v0+json": {
       "columns": [
        {
         "name": "index",
         "rawType": "int64",
         "type": "integer"
        },
        {
         "name": "id_produto",
         "rawType": "object",
         "type": "string"
        },
        {
         "name": "nome",
         "rawType": "object",
         "type": "string"
        },
        {
         "name": "descricao",
         "rawType": "object",
         "type": "string"
        },
        {
         "name": "preco",
         "rawType": "object",
         "type": "string"
        },
        {
         "name": "data_cadastro",
         "rawType": "object",
         "type": "string"
        }
       ],
       "conversionMethod": "pd.DataFrame",
       "ref": "e220a39c-9e91-4943-8ac3-83c74ed96494",
       "rows": [],
       "shape": {
        "columns": 5,
        "rows": 0
       }
      },
      "text/html": [
       "<div>\n",
       "<style scoped>\n",
       "    .dataframe tbody tr th:only-of-type {\n",
       "        vertical-align: middle;\n",
       "    }\n",
       "\n",
       "    .dataframe tbody tr th {\n",
       "        vertical-align: top;\n",
       "    }\n",
       "\n",
       "    .dataframe thead th {\n",
       "        text-align: right;\n",
       "    }\n",
       "</style>\n",
       "<table border=\"1\" class=\"dataframe\">\n",
       "  <thead>\n",
       "    <tr style=\"text-align: right;\">\n",
       "      <th></th>\n",
       "      <th>id_produto</th>\n",
       "      <th>nome</th>\n",
       "      <th>descricao</th>\n",
       "      <th>preco</th>\n",
       "      <th>data_cadastro</th>\n",
       "    </tr>\n",
       "  </thead>\n",
       "  <tbody>\n",
       "  </tbody>\n",
       "</table>\n",
       "</div>"
      ],
      "text/plain": [
       "Empty DataFrame\n",
       "Columns: [id_produto, nome, descricao, preco, data_cadastro]\n",
       "Index: []"
      ]
     },
     "metadata": {},
     "output_type": "display_data"
    },
    {
     "name": "stdout",
     "output_type": "stream",
     "text": [
      "📂 Categorias:\n"
     ]
    },
    {
     "data": {
      "application/vnd.microsoft.datawrangler.viewer.v0+json": {
       "columns": [
        {
         "name": "index",
         "rawType": "int64",
         "type": "integer"
        },
        {
         "name": "id_categoria",
         "rawType": "object",
         "type": "string"
        },
        {
         "name": "nome_categoria",
         "rawType": "object",
         "type": "string"
        }
       ],
       "conversionMethod": "pd.DataFrame",
       "ref": "704aace4-af46-4a5d-85f8-589d76b1cbce",
       "rows": [],
       "shape": {
        "columns": 2,
        "rows": 0
       }
      },
      "text/html": [
       "<div>\n",
       "<style scoped>\n",
       "    .dataframe tbody tr th:only-of-type {\n",
       "        vertical-align: middle;\n",
       "    }\n",
       "\n",
       "    .dataframe tbody tr th {\n",
       "        vertical-align: top;\n",
       "    }\n",
       "\n",
       "    .dataframe thead th {\n",
       "        text-align: right;\n",
       "    }\n",
       "</style>\n",
       "<table border=\"1\" class=\"dataframe\">\n",
       "  <thead>\n",
       "    <tr style=\"text-align: right;\">\n",
       "      <th></th>\n",
       "      <th>id_categoria</th>\n",
       "      <th>nome_categoria</th>\n",
       "    </tr>\n",
       "  </thead>\n",
       "  <tbody>\n",
       "  </tbody>\n",
       "</table>\n",
       "</div>"
      ],
      "text/plain": [
       "Empty DataFrame\n",
       "Columns: [id_categoria, nome_categoria]\n",
       "Index: []"
      ]
     },
     "metadata": {},
     "output_type": "display_data"
    },
    {
     "name": "stdout",
     "output_type": "stream",
     "text": [
      "👤 Clientes:\n"
     ]
    },
    {
     "data": {
      "application/vnd.microsoft.datawrangler.viewer.v0+json": {
       "columns": [
        {
         "name": "index",
         "rawType": "int64",
         "type": "integer"
        },
        {
         "name": "id_cliente",
         "rawType": "int64",
         "type": "integer"
        },
        {
         "name": "nome",
         "rawType": "object",
         "type": "string"
        },
        {
         "name": "email",
         "rawType": "object",
         "type": "string"
        },
        {
         "name": "telefone",
         "rawType": "object",
         "type": "string"
        },
        {
         "name": "data_cadastro",
         "rawType": "object",
         "type": "string"
        }
       ],
       "conversionMethod": "pd.DataFrame",
       "ref": "39317d6e-fcc1-4b23-8345-a0b8c684c3aa",
       "rows": [
        [
         "0",
         "1",
         "Alice Silva",
         "alice@example.com",
         "(11)99999-1111",
         "2025-04-21 13:01:17"
        ],
        [
         "1",
         "2",
         "Bruno Souza",
         "bruno@example.com",
         "(21)98888-2222",
         "2025-04-21 13:01:17"
        ],
        [
         "2",
         "3",
         "Carla Mendes",
         "carla@example.com",
         "(31)97777-3333",
         "2025-04-21 13:01:17"
        ],
        [
         "3",
         "4",
         "João da Silva",
         "joao.silva@email.com",
         "(11)99999-1111",
         "2024-09-08 00:00:00"
        ],
        [
         "4",
         "5",
         "Empresa XPTO Ltda.",
         "contato@xpto.com.br",
         "(11)22222-2222",
         "2025-04-21 14:10:15"
        ]
       ],
       "shape": {
        "columns": 5,
        "rows": 5
       }
      },
      "text/html": [
       "<div>\n",
       "<style scoped>\n",
       "    .dataframe tbody tr th:only-of-type {\n",
       "        vertical-align: middle;\n",
       "    }\n",
       "\n",
       "    .dataframe tbody tr th {\n",
       "        vertical-align: top;\n",
       "    }\n",
       "\n",
       "    .dataframe thead th {\n",
       "        text-align: right;\n",
       "    }\n",
       "</style>\n",
       "<table border=\"1\" class=\"dataframe\">\n",
       "  <thead>\n",
       "    <tr style=\"text-align: right;\">\n",
       "      <th></th>\n",
       "      <th>id_cliente</th>\n",
       "      <th>nome</th>\n",
       "      <th>email</th>\n",
       "      <th>telefone</th>\n",
       "      <th>data_cadastro</th>\n",
       "    </tr>\n",
       "  </thead>\n",
       "  <tbody>\n",
       "    <tr>\n",
       "      <th>0</th>\n",
       "      <td>1</td>\n",
       "      <td>Alice Silva</td>\n",
       "      <td>alice@example.com</td>\n",
       "      <td>(11)99999-1111</td>\n",
       "      <td>2025-04-21 13:01:17</td>\n",
       "    </tr>\n",
       "    <tr>\n",
       "      <th>1</th>\n",
       "      <td>2</td>\n",
       "      <td>Bruno Souza</td>\n",
       "      <td>bruno@example.com</td>\n",
       "      <td>(21)98888-2222</td>\n",
       "      <td>2025-04-21 13:01:17</td>\n",
       "    </tr>\n",
       "    <tr>\n",
       "      <th>2</th>\n",
       "      <td>3</td>\n",
       "      <td>Carla Mendes</td>\n",
       "      <td>carla@example.com</td>\n",
       "      <td>(31)97777-3333</td>\n",
       "      <td>2025-04-21 13:01:17</td>\n",
       "    </tr>\n",
       "    <tr>\n",
       "      <th>3</th>\n",
       "      <td>4</td>\n",
       "      <td>João da Silva</td>\n",
       "      <td>joao.silva@email.com</td>\n",
       "      <td>(11)99999-1111</td>\n",
       "      <td>2024-09-08 00:00:00</td>\n",
       "    </tr>\n",
       "    <tr>\n",
       "      <th>4</th>\n",
       "      <td>5</td>\n",
       "      <td>Empresa XPTO Ltda.</td>\n",
       "      <td>contato@xpto.com.br</td>\n",
       "      <td>(11)22222-2222</td>\n",
       "      <td>2025-04-21 14:10:15</td>\n",
       "    </tr>\n",
       "  </tbody>\n",
       "</table>\n",
       "</div>"
      ],
      "text/plain": [
       "   id_cliente                nome                 email        telefone  \\\n",
       "0           1         Alice Silva     alice@example.com  (11)99999-1111   \n",
       "1           2         Bruno Souza     bruno@example.com  (21)98888-2222   \n",
       "2           3        Carla Mendes     carla@example.com  (31)97777-3333   \n",
       "3           4       João da Silva  joao.silva@email.com  (11)99999-1111   \n",
       "4           5  Empresa XPTO Ltda.   contato@xpto.com.br  (11)22222-2222   \n",
       "\n",
       "         data_cadastro  \n",
       "0  2025-04-21 13:01:17  \n",
       "1  2025-04-21 13:01:17  \n",
       "2  2025-04-21 13:01:17  \n",
       "3  2024-09-08 00:00:00  \n",
       "4  2025-04-21 14:10:15  "
      ]
     },
     "metadata": {},
     "output_type": "display_data"
    },
    {
     "name": "stdout",
     "output_type": "stream",
     "text": [
      "👨‍💼 Funcionários:\n"
     ]
    },
    {
     "data": {
      "application/vnd.microsoft.datawrangler.viewer.v0+json": {
       "columns": [
        {
         "name": "index",
         "rawType": "int64",
         "type": "integer"
        },
        {
         "name": "id_funcionario",
         "rawType": "int64",
         "type": "integer"
        },
        {
         "name": "nome",
         "rawType": "object",
         "type": "string"
        },
        {
         "name": "cpf",
         "rawType": "object",
         "type": "string"
        },
        {
         "name": "data_nascimento",
         "rawType": "object",
         "type": "string"
        },
        {
         "name": "telefone",
         "rawType": "object",
         "type": "string"
        },
        {
         "name": "email",
         "rawType": "object",
         "type": "string"
        },
        {
         "name": "cargo",
         "rawType": "object",
         "type": "string"
        },
        {
         "name": "departamento",
         "rawType": "object",
         "type": "string"
        }
       ],
       "conversionMethod": "pd.DataFrame",
       "ref": "a41329e4-9319-4812-a093-b2207b565071",
       "rows": [
        [
         "0",
         "1",
         "Marcos Lima",
         "12345678901",
         "1985-02-15",
         "(11)99999-0000",
         "marcos@empresa.com",
         "Atendente",
         "SAC"
        ],
        [
         "1",
         "2",
         "Fernanda Rocha",
         "10987654321",
         "1990-07-23",
         "(11)98888-1111",
         "fernanda@empresa.com",
         "Analista",
         "Ouvidoria"
        ]
       ],
       "shape": {
        "columns": 8,
        "rows": 2
       }
      },
      "text/html": [
       "<div>\n",
       "<style scoped>\n",
       "    .dataframe tbody tr th:only-of-type {\n",
       "        vertical-align: middle;\n",
       "    }\n",
       "\n",
       "    .dataframe tbody tr th {\n",
       "        vertical-align: top;\n",
       "    }\n",
       "\n",
       "    .dataframe thead th {\n",
       "        text-align: right;\n",
       "    }\n",
       "</style>\n",
       "<table border=\"1\" class=\"dataframe\">\n",
       "  <thead>\n",
       "    <tr style=\"text-align: right;\">\n",
       "      <th></th>\n",
       "      <th>id_funcionario</th>\n",
       "      <th>nome</th>\n",
       "      <th>cpf</th>\n",
       "      <th>data_nascimento</th>\n",
       "      <th>telefone</th>\n",
       "      <th>email</th>\n",
       "      <th>cargo</th>\n",
       "      <th>departamento</th>\n",
       "    </tr>\n",
       "  </thead>\n",
       "  <tbody>\n",
       "    <tr>\n",
       "      <th>0</th>\n",
       "      <td>1</td>\n",
       "      <td>Marcos Lima</td>\n",
       "      <td>12345678901</td>\n",
       "      <td>1985-02-15</td>\n",
       "      <td>(11)99999-0000</td>\n",
       "      <td>marcos@empresa.com</td>\n",
       "      <td>Atendente</td>\n",
       "      <td>SAC</td>\n",
       "    </tr>\n",
       "    <tr>\n",
       "      <th>1</th>\n",
       "      <td>2</td>\n",
       "      <td>Fernanda Rocha</td>\n",
       "      <td>10987654321</td>\n",
       "      <td>1990-07-23</td>\n",
       "      <td>(11)98888-1111</td>\n",
       "      <td>fernanda@empresa.com</td>\n",
       "      <td>Analista</td>\n",
       "      <td>Ouvidoria</td>\n",
       "    </tr>\n",
       "  </tbody>\n",
       "</table>\n",
       "</div>"
      ],
      "text/plain": [
       "   id_funcionario            nome          cpf data_nascimento  \\\n",
       "0               1     Marcos Lima  12345678901      1985-02-15   \n",
       "1               2  Fernanda Rocha  10987654321      1990-07-23   \n",
       "\n",
       "         telefone                 email      cargo departamento  \n",
       "0  (11)99999-0000    marcos@empresa.com  Atendente          SAC  \n",
       "1  (11)98888-1111  fernanda@empresa.com   Analista    Ouvidoria  "
      ]
     },
     "metadata": {},
     "output_type": "display_data"
    },
    {
     "name": "stdout",
     "output_type": "stream",
     "text": [
      "📨 Chamados (SAC):\n"
     ]
    },
    {
     "data": {
      "application/vnd.microsoft.datawrangler.viewer.v0+json": {
       "columns": [
        {
         "name": "index",
         "rawType": "int64",
         "type": "integer"
        },
        {
         "name": "id_sac",
         "rawType": "int64",
         "type": "integer"
        },
        {
         "name": "id_cliente",
         "rawType": "int64",
         "type": "integer"
        },
        {
         "name": "id_produto",
         "rawType": "int64",
         "type": "integer"
        },
        {
         "name": "id_funcionario",
         "rawType": "int64",
         "type": "integer"
        },
        {
         "name": "data_hora_atendimento",
         "rawType": "object",
         "type": "unknown"
        },
        {
         "name": "status_chamado",
         "rawType": "object",
         "type": "string"
        },
        {
         "name": "tipo_chamado",
         "rawType": "object",
         "type": "string"
        },
        {
         "name": "tempo_total_atendimento",
         "rawType": "int64",
         "type": "integer"
        },
        {
         "name": "indice_satisfacao",
         "rawType": "int64",
         "type": "integer"
        },
        {
         "name": "descricao_chamado",
         "rawType": "object",
         "type": "string"
        }
       ],
       "conversionMethod": "pd.DataFrame",
       "ref": "45d87b11-04c0-4b3a-9aa5-dd4e1e3c968a",
       "rows": [
        [
         "0",
         "1",
         "1",
         "1",
         "1",
         null,
         "F",
         "1",
         "80",
         "80",
         "Produto com defeito"
        ],
        [
         "1",
         "2",
         "2",
         "1",
         "2",
         null,
         "X",
         "2",
         "45",
         "50",
         "Atraso na entrega"
        ],
        [
         "2",
         "3",
         "3",
         "1",
         "1",
         null,
         "F",
         "1",
         "90",
         "95",
         "Dúvida sobre a garantia"
        ]
       ],
       "shape": {
        "columns": 10,
        "rows": 3
       }
      },
      "text/html": [
       "<div>\n",
       "<style scoped>\n",
       "    .dataframe tbody tr th:only-of-type {\n",
       "        vertical-align: middle;\n",
       "    }\n",
       "\n",
       "    .dataframe tbody tr th {\n",
       "        vertical-align: top;\n",
       "    }\n",
       "\n",
       "    .dataframe thead th {\n",
       "        text-align: right;\n",
       "    }\n",
       "</style>\n",
       "<table border=\"1\" class=\"dataframe\">\n",
       "  <thead>\n",
       "    <tr style=\"text-align: right;\">\n",
       "      <th></th>\n",
       "      <th>id_sac</th>\n",
       "      <th>id_cliente</th>\n",
       "      <th>id_produto</th>\n",
       "      <th>id_funcionario</th>\n",
       "      <th>data_hora_atendimento</th>\n",
       "      <th>status_chamado</th>\n",
       "      <th>tipo_chamado</th>\n",
       "      <th>tempo_total_atendimento</th>\n",
       "      <th>indice_satisfacao</th>\n",
       "      <th>descricao_chamado</th>\n",
       "    </tr>\n",
       "  </thead>\n",
       "  <tbody>\n",
       "    <tr>\n",
       "      <th>0</th>\n",
       "      <td>1</td>\n",
       "      <td>1</td>\n",
       "      <td>1</td>\n",
       "      <td>1</td>\n",
       "      <td>None</td>\n",
       "      <td>F</td>\n",
       "      <td>1</td>\n",
       "      <td>80</td>\n",
       "      <td>80</td>\n",
       "      <td>Produto com defeito</td>\n",
       "    </tr>\n",
       "    <tr>\n",
       "      <th>1</th>\n",
       "      <td>2</td>\n",
       "      <td>2</td>\n",
       "      <td>1</td>\n",
       "      <td>2</td>\n",
       "      <td>None</td>\n",
       "      <td>X</td>\n",
       "      <td>2</td>\n",
       "      <td>45</td>\n",
       "      <td>50</td>\n",
       "      <td>Atraso na entrega</td>\n",
       "    </tr>\n",
       "    <tr>\n",
       "      <th>2</th>\n",
       "      <td>3</td>\n",
       "      <td>3</td>\n",
       "      <td>1</td>\n",
       "      <td>1</td>\n",
       "      <td>None</td>\n",
       "      <td>F</td>\n",
       "      <td>1</td>\n",
       "      <td>90</td>\n",
       "      <td>95</td>\n",
       "      <td>Dúvida sobre a garantia</td>\n",
       "    </tr>\n",
       "  </tbody>\n",
       "</table>\n",
       "</div>"
      ],
      "text/plain": [
       "   id_sac  id_cliente  id_produto  id_funcionario data_hora_atendimento  \\\n",
       "0       1           1           1               1                  None   \n",
       "1       2           2           1               2                  None   \n",
       "2       3           3           1               1                  None   \n",
       "\n",
       "  status_chamado tipo_chamado  tempo_total_atendimento  indice_satisfacao  \\\n",
       "0              F            1                       80                 80   \n",
       "1              X            2                       45                 50   \n",
       "2              F            1                       90                 95   \n",
       "\n",
       "         descricao_chamado  \n",
       "0      Produto com defeito  \n",
       "1        Atraso na entrega  \n",
       "2  Dúvida sobre a garantia  "
      ]
     },
     "metadata": {},
     "output_type": "display_data"
    },
    {
     "name": "stdout",
     "output_type": "stream",
     "text": [
      "⭐ Satisfação:\n"
     ]
    },
    {
     "data": {
      "application/vnd.microsoft.datawrangler.viewer.v0+json": {
       "columns": [
        {
         "name": "index",
         "rawType": "int64",
         "type": "integer"
        },
        {
         "name": "id_satisfacao",
         "rawType": "object",
         "type": "string"
        },
        {
         "name": "id_sac",
         "rawType": "object",
         "type": "string"
        },
        {
         "name": "nota",
         "rawType": "object",
         "type": "string"
        },
        {
         "name": "comentario",
         "rawType": "object",
         "type": "string"
        }
       ],
       "conversionMethod": "pd.DataFrame",
       "ref": "7380a89e-d5cd-4c9d-a4c5-352420ee6591",
       "rows": [],
       "shape": {
        "columns": 4,
        "rows": 0
       }
      },
      "text/html": [
       "<div>\n",
       "<style scoped>\n",
       "    .dataframe tbody tr th:only-of-type {\n",
       "        vertical-align: middle;\n",
       "    }\n",
       "\n",
       "    .dataframe tbody tr th {\n",
       "        vertical-align: top;\n",
       "    }\n",
       "\n",
       "    .dataframe thead th {\n",
       "        text-align: right;\n",
       "    }\n",
       "</style>\n",
       "<table border=\"1\" class=\"dataframe\">\n",
       "  <thead>\n",
       "    <tr style=\"text-align: right;\">\n",
       "      <th></th>\n",
       "      <th>id_satisfacao</th>\n",
       "      <th>id_sac</th>\n",
       "      <th>nota</th>\n",
       "      <th>comentario</th>\n",
       "    </tr>\n",
       "  </thead>\n",
       "  <tbody>\n",
       "  </tbody>\n",
       "</table>\n",
       "</div>"
      ],
      "text/plain": [
       "Empty DataFrame\n",
       "Columns: [id_satisfacao, id_sac, nota, comentario]\n",
       "Index: []"
      ]
     },
     "metadata": {},
     "output_type": "display_data"
    },
    {
     "name": "stdout",
     "output_type": "stream",
     "text": [
      "📹 Visualizações:\n"
     ]
    },
    {
     "data": {
      "application/vnd.microsoft.datawrangler.viewer.v0+json": {
       "columns": [
        {
         "name": "index",
         "rawType": "int64",
         "type": "integer"
        },
        {
         "name": "id_visualizacao",
         "rawType": "object",
         "type": "string"
        },
        {
         "name": "id_video",
         "rawType": "object",
         "type": "string"
        },
        {
         "name": "id_cliente",
         "rawType": "object",
         "type": "string"
        },
        {
         "name": "data_hora_visualizacao",
         "rawType": "object",
         "type": "string"
        }
       ],
       "conversionMethod": "pd.DataFrame",
       "ref": "b0004272-170c-4c89-97e8-8ae35e4da541",
       "rows": [],
       "shape": {
        "columns": 4,
        "rows": 0
       }
      },
      "text/html": [
       "<div>\n",
       "<style scoped>\n",
       "    .dataframe tbody tr th:only-of-type {\n",
       "        vertical-align: middle;\n",
       "    }\n",
       "\n",
       "    .dataframe tbody tr th {\n",
       "        vertical-align: top;\n",
       "    }\n",
       "\n",
       "    .dataframe thead th {\n",
       "        text-align: right;\n",
       "    }\n",
       "</style>\n",
       "<table border=\"1\" class=\"dataframe\">\n",
       "  <thead>\n",
       "    <tr style=\"text-align: right;\">\n",
       "      <th></th>\n",
       "      <th>id_visualizacao</th>\n",
       "      <th>id_video</th>\n",
       "      <th>id_cliente</th>\n",
       "      <th>data_hora_visualizacao</th>\n",
       "    </tr>\n",
       "  </thead>\n",
       "  <tbody>\n",
       "  </tbody>\n",
       "</table>\n",
       "</div>"
      ],
      "text/plain": [
       "Empty DataFrame\n",
       "Columns: [id_visualizacao, id_video, id_cliente, data_hora_visualizacao]\n",
       "Index: []"
      ]
     },
     "metadata": {},
     "output_type": "display_data"
    }
   ],
   "source": [
    "import pandas as pd\n",
    "\n",
    "# SELECT * FROM produto\n",
    "print(\"📦 Produtos:\")\n",
    "df_produto = pd.read_sql_query(\"SELECT * FROM produto LIMIT 5\", conn)\n",
    "display(df_produto)\n",
    "\n",
    "# SELECT * FROM categoria\n",
    "print(\"📂 Categorias:\")\n",
    "df_categoria = pd.read_sql_query(\"SELECT * FROM categoria LIMIT 5\", conn)\n",
    "display(df_categoria)\n",
    "\n",
    "# SELECT * FROM cliente\n",
    "print(\"👤 Clientes:\")\n",
    "df_cliente = pd.read_sql_query(\"SELECT * FROM cliente LIMIT 5\", conn)\n",
    "display(df_cliente)\n",
    "\n",
    "# SELECT * FROM funcionario\n",
    "print(\"👨‍💼 Funcionários:\")\n",
    "df_func = pd.read_sql_query(\"SELECT * FROM funcionario LIMIT 5\", conn)\n",
    "display(df_func)\n",
    "\n",
    "# SELECT * FROM sac\n",
    "print(\"📨 Chamados (SAC):\")\n",
    "df_sac = pd.read_sql_query(\"SELECT * FROM sac LIMIT 5\", conn)\n",
    "display(df_sac)\n",
    "\n",
    "# SELECT * FROM satisfacao\n",
    "print(\"⭐ Satisfação:\")\n",
    "df_satisfacao = pd.read_sql_query(\"SELECT * FROM satisfacao LIMIT 5\", conn)\n",
    "display(df_satisfacao)\n",
    "\n",
    "# SELECT * FROM visualizacao_video\n",
    "print(\"📹 Visualizações:\")\n",
    "df_view = pd.read_sql_query(\"SELECT * FROM visualizacao_video LIMIT 5\", conn)\n",
    "display(df_view)\n"
   ]
  },
  {
   "cell_type": "code",
   "execution_count": 7,
   "id": "1b2f17cc",
   "metadata": {},
   "outputs": [],
   "source": [
    "conn.close()"
   ]
  }
 ],
 "metadata": {
  "kernelspec": {
   "display_name": ".venvfiap",
   "language": "python",
   "name": "python3"
  },
  "language_info": {
   "codemirror_mode": {
    "name": "ipython",
    "version": 3
   },
   "file_extension": ".py",
   "mimetype": "text/x-python",
   "name": "python",
   "nbconvert_exporter": "python",
   "pygments_lexer": "ipython3",
   "version": "3.11.8"
  }
 },
 "nbformat": 4,
 "nbformat_minor": 5
}
