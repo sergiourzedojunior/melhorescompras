{
 "cells": [
  {
   "cell_type": "markdown",
   "id": "17b2b8bb",
   "metadata": {},
   "source": [
    "# 📦 Bloco 3, 4 e 5 – Complemento de Tabelas SGV"
   ]
  },
  {
   "cell_type": "code",
   "execution_count": 2,
   "id": "fa4d7dba",
   "metadata": {},
   "outputs": [
    {
     "name": "stdout",
     "output_type": "stream",
     "text": [
      "✅ Conectado com sucesso ao banco de dados.\n"
     ]
    }
   ],
   "source": [
    "import sqlite3\n",
    "import os\n",
    "\n",
    "# Caminho relativo do notebook (notebooks/) até o banco (data/)\n",
    "db_path = os.path.join(\"..\", \"data\", \"melhores_compras.db\")\n",
    "\n",
    "# Conexão\n",
    "conn = sqlite3.connect(db_path)\n",
    "cursor = conn.cursor()\n",
    "print(\"✅ Conectado com sucesso ao banco de dados.\")\n"
   ]
  },
  {
   "cell_type": "code",
   "execution_count": 3,
   "id": "00da2610",
   "metadata": {},
   "outputs": [
    {
     "name": "stdout",
     "output_type": "stream",
     "text": [
      "📋 Tabelas no banco: ['sqlite_sequence', 'produto', 'video_produto', 'cliente', 'funcionario', 'visualizacao_video', 'sac', 'auditoria_sac']\n"
     ]
    }
   ],
   "source": [
    "cursor.execute(\"SELECT name FROM sqlite_master WHERE type='table';\")\n",
    "print(\"📋 Tabelas no banco:\", [t[0] for t in cursor.fetchall()])\n"
   ]
  },
  {
   "cell_type": "markdown",
   "id": "2241cbd5",
   "metadata": {},
   "source": [
    "### 🏢 Bloco 3 – Funcionários e Estrutura Interna"
   ]
  },
  {
   "cell_type": "code",
   "execution_count": 4,
   "id": "05683b5a",
   "metadata": {},
   "outputs": [
    {
     "name": "stdout",
     "output_type": "stream",
     "text": [
      "✅ Bloco 3 criado com sucesso.\n"
     ]
    }
   ],
   "source": [
    "cursor.execute(\"\"\"\n",
    "CREATE TABLE IF NOT EXISTS depto (\n",
    "    id_depto INTEGER PRIMARY KEY AUTOINCREMENT,\n",
    "    nome_depto TEXT NOT NULL\n",
    ");\n",
    "\"\"\")\n",
    "\n",
    "cursor.execute(\"\"\"\n",
    "CREATE TABLE IF NOT EXISTS end_func (\n",
    "    id_end_func INTEGER PRIMARY KEY AUTOINCREMENT,\n",
    "    id_funcionario INTEGER,\n",
    "    id_logradouro INTEGER,\n",
    "    numero TEXT,\n",
    "    complemento TEXT,\n",
    "    FOREIGN KEY (id_funcionario) REFERENCES funcionario(id_funcionario),\n",
    "    FOREIGN KEY (id_logradouro) REFERENCES logradouro(id_logradouro)\n",
    ");\n",
    "\"\"\")\n",
    "conn.commit()\n",
    "print(\"✅ Bloco 3 criado com sucesso.\")"
   ]
  },
  {
   "cell_type": "markdown",
   "id": "7f891564",
   "metadata": {},
   "source": [
    "### 📦 Bloco 4 – Produtos e Categorias"
   ]
  },
  {
   "cell_type": "code",
   "execution_count": 5,
   "id": "1e0a49f2",
   "metadata": {},
   "outputs": [
    {
     "name": "stdout",
     "output_type": "stream",
     "text": [
      "✅ Bloco 4 criado com sucesso.\n"
     ]
    }
   ],
   "source": [
    "cursor.execute(\"\"\"\n",
    "CREATE TABLE IF NOT EXISTS categoria (\n",
    "    id_categoria INTEGER PRIMARY KEY AUTOINCREMENT,\n",
    "    nome_categoria TEXT NOT NULL\n",
    ");\n",
    "\"\"\")\n",
    "\n",
    "cursor.execute(\"\"\"\n",
    "CREATE TABLE IF NOT EXISTS produto_video (\n",
    "    id_produto_video INTEGER PRIMARY KEY AUTOINCREMENT,\n",
    "    id_produto INTEGER,\n",
    "    url_video TEXT,\n",
    "    descricao TEXT,\n",
    "    FOREIGN KEY (id_produto) REFERENCES produto(id_produto)\n",
    ");\n",
    "\"\"\")\n",
    "\n",
    "cursor.execute(\"\"\"\n",
    "CREATE TABLE IF NOT EXISTS imagem_produto (\n",
    "    id_imagem INTEGER PRIMARY KEY AUTOINCREMENT,\n",
    "    id_produto INTEGER,\n",
    "    url_imagem TEXT,\n",
    "    FOREIGN KEY (id_produto) REFERENCES produto(id_produto)\n",
    ");\n",
    "\"\"\")\n",
    "conn.commit()\n",
    "print(\"✅ Bloco 4 criado com sucesso.\")"
   ]
  },
  {
   "cell_type": "markdown",
   "id": "3b721634",
   "metadata": {},
   "source": [
    "### 💬 Bloco 5 – Interações"
   ]
  },
  {
   "cell_type": "code",
   "execution_count": 6,
   "id": "7442f399",
   "metadata": {},
   "outputs": [
    {
     "name": "stdout",
     "output_type": "stream",
     "text": [
      "✅ Bloco 5 criado com sucesso.\n"
     ]
    }
   ],
   "source": [
    "cursor.execute(\"\"\"\n",
    "CREATE TABLE IF NOT EXISTS satisfacao (\n",
    "    id_satisfacao INTEGER PRIMARY KEY AUTOINCREMENT,\n",
    "    id_sac INTEGER,\n",
    "    nota INTEGER,\n",
    "    comentario TEXT,\n",
    "    FOREIGN KEY (id_sac) REFERENCES sac(id_sac)\n",
    ");\n",
    "\"\"\")\n",
    "conn.commit()\n",
    "print(\"✅ Bloco 5 criado com sucesso.\")\n",
    "conn.close()"
   ]
  }
 ],
 "metadata": {
  "kernelspec": {
   "display_name": ".venvfiap",
   "language": "python",
   "name": "python3"
  },
  "language_info": {
   "codemirror_mode": {
    "name": "ipython",
    "version": 3
   },
   "file_extension": ".py",
   "mimetype": "text/x-python",
   "name": "python",
   "nbconvert_exporter": "python",
   "pygments_lexer": "ipython3",
   "version": "3.11.9"
  }
 },
 "nbformat": 4,
 "nbformat_minor": 5
}
